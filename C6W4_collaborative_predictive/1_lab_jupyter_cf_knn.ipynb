{
 "cells": [
  {
   "cell_type": "markdown",
   "metadata": {},
   "source": [
    "<p style=\"text-align:center\">\n",
    "    <a href=\"https://skills.network/?utm_medium=Exinfluencer&utm_source=Exinfluencer&utm_content=000026UJ&utm_term=10006555&utm_id=NA-SkillsNetwork-Channel-SkillsNetworkCoursesIBMML321ENSkillsNetwork817-2022-01-01\" target=\"_blank\">\n",
    "    <img src=\"https://cf-courses-data.s3.us.cloud-object-storage.appdomain.cloud/assets/logos/SN_web_lightmode.png\" width=\"200\" alt=\"Skills Network Logo\"  />\n",
    "    </a>\n",
    "</p>\n"
   ]
  },
  {
   "cell_type": "markdown",
   "metadata": {},
   "source": [
    "# **Collaborative Filtering based Recommender System using K Nearest Neighbor**\n"
   ]
  },
  {
   "cell_type": "markdown",
   "metadata": {},
   "source": [
    "Estimated time needed: **60** minutes\n"
   ]
  },
  {
   "cell_type": "markdown",
   "metadata": {},
   "source": [
    "Collaborative filtering is probably the most commonly used recommendation algorithm, there are two main types of methods: \n",
    " - **User-based** collaborative filtering is based on the user similarity or neighborhood\n",
    " - **Item-based** collaborative filtering is based on similarity among items\n"
   ]
  },
  {
   "cell_type": "markdown",
   "metadata": {},
   "source": [
    "They both work similarly, let's briefly explain how user-based collaborative filtering works.\n"
   ]
  },
  {
   "cell_type": "markdown",
   "metadata": {},
   "source": [
    "User-based collaborative filtering looks for users who are similar. This is very similar to the user clustering method done previously; where we employed explicit user profiles to calculate user similarity. However, the user profiles may not be available, so how can we determine if two users are similar?\n"
   ]
  },
  {
   "cell_type": "markdown",
   "metadata": {},
   "source": [
    "#### User-item interaction matrix \n"
   ]
  },
  {
   "cell_type": "markdown",
   "metadata": {},
   "source": [
    "For most collaborative filtering-based recommender systems, the main dataset format is a 2-D matrix called the user-item interaction matrix. In the matrix,  its row is labeled as the user id/index and column labelled to be the item id/index, and the element `(i, j)` represents the rating of user `i` to item `j`.  \n",
    "\n",
    "Below is a simple example of a user-item interaction matrix:\n"
   ]
  },
  {
   "cell_type": "markdown",
   "metadata": {},
   "source": [
    "![](https://cf-courses-data.s3.us.cloud-object-storage.appdomain.cloud/IBM-ML321EN-SkillsNetwork/labs/module_4/images/user_item_matrix.png)\n"
   ]
  },
  {
   "cell_type": "markdown",
   "metadata": {},
   "source": [
    "#### KNN-based collaborative filtering\n"
   ]
  },
  {
   "cell_type": "markdown",
   "metadata": {},
   "source": [
    "As we can see from above, each row vector represents the rating history of a user and each column vector represents the users who rated the item. A user-item interaction matrix is usually very sparse as you can imagine one user very likely only interacts with a very small subset of items and one item is very likely to be interacted by a small subset of users.\n"
   ]
  },
  {
   "cell_type": "markdown",
   "metadata": {},
   "source": [
    "Now to determine if two users are similar, we can simply calculate the similarities between their row vectors in the interaction matrix. Then based on the similarity measurements, we can find the `k` nearest neighbor as the similar users.\n"
   ]
  },
  {
   "cell_type": "markdown",
   "metadata": {},
   "source": [
    "Item-based collaborative filtering works similarly, we just need to look at the user-item matrix vertically. Instead of finding similar users, we are trying to find similar items (courses). If two courses are enrolled by two groups of similar users, then we could consider the two items are similar and use the known ratings from the other users to predict the unknown ratings.\n"
   ]
  },
  {
   "cell_type": "markdown",
   "metadata": {},
   "source": [
    "If we formulate the KNN based collaborative filtering,  the predicted rating of user $u$ to item $i$, $\\hat{r}_{ui}$ is given by:\n"
   ]
  },
  {
   "cell_type": "markdown",
   "metadata": {},
   "source": [
    "**User-based** collaborative filtering:\n"
   ]
  },
  {
   "cell_type": "markdown",
   "metadata": {},
   "source": [
    "$$\\hat{r}_{ui} = \\frac{\n",
    "\\sum\\limits_{v \\in N^k_i(u)} \\text{similarity}(u, v) \\cdot r_{vi}}\n",
    "{\\sum\\limits_{v \\in N^k_i(u)} \\text{similarity}(u, v)}$$\n"
   ]
  },
  {
   "cell_type": "markdown",
   "metadata": {},
   "source": [
    "**Item-based** collaborative filtering:\n"
   ]
  },
  {
   "cell_type": "markdown",
   "metadata": {},
   "source": [
    "$$\\hat{r}_{ui} = \\frac{\n",
    "\\sum\\limits_{j \\in N^k_u(i)} \\text{similarity}(i, j) \\cdot r_{uj}}\n",
    "{\\sum\\limits_{j \\in N^k_u(i)} \\text{similarity}(i, j)}$$\n"
   ]
  },
  {
   "cell_type": "markdown",
   "metadata": {},
   "source": [
    "Here $N^k_i(u)$ notates the nearest k neighbors of $u$.\n"
   ]
  },
  {
   "cell_type": "markdown",
   "metadata": {},
   "source": [
    "Let's illustrate how the equation works using a simple example. From the above figure, suppose we want to predict the rating of `user6` to item `Machine Learning Capstone` course. After some similarity measurements, we found that k = 4 nearest neighbors: `user2, user3, user4, user5` with similarities in array ```knn_sims```:\n"
   ]
  },
  {
   "cell_type": "code",
   "execution_count": 1,
   "metadata": {},
   "outputs": [],
   "source": [
    "import numpy as np\n",
    "import math"
   ]
  },
  {
   "cell_type": "code",
   "execution_count": 2,
   "metadata": {},
   "outputs": [],
   "source": [
    "# An example similarity array stores the similarity of user2, user3, user4, and user5 to user6\n",
    "knn_sims = np.array([0.8, 0.92, 0.75, 0.83])"
   ]
  },
  {
   "cell_type": "markdown",
   "metadata": {},
   "source": [
    "Also their rating on the `Machine Learning Capstone` course are:\n"
   ]
  },
  {
   "cell_type": "code",
   "execution_count": 3,
   "metadata": {},
   "outputs": [],
   "source": [
    "# 2.0 means audit and 3.0 means complete the course\n",
    "knn_ratings = np.array([3.0, 3.0, 2.0, 3.0]) "
   ]
  },
  {
   "cell_type": "markdown",
   "metadata": {},
   "source": [
    "So the predicted rating of `user6` to item `Machine Learning Capstone` course can be calculated as:\n"
   ]
  },
  {
   "cell_type": "code",
   "execution_count": 4,
   "metadata": {},
   "outputs": [
    {
     "data": {
      "text/plain": [
       "2.7727272727272725"
      ]
     },
     "execution_count": 4,
     "metadata": {},
     "output_type": "execute_result"
    }
   ],
   "source": [
    "r_u6_ml =  np.dot(knn_sims, knn_ratings)/ sum(knn_sims)\n",
    "r_u6_ml"
   ]
  },
  {
   "cell_type": "markdown",
   "metadata": {},
   "source": [
    "If we already know the true rating to be 3.0, then we get a prediction error RMSE (Rooted Mean Squared Error) as:\n"
   ]
  },
  {
   "cell_type": "code",
   "execution_count": 5,
   "metadata": {},
   "outputs": [
    {
     "data": {
      "text/plain": [
       "0.22727272727272751"
      ]
     },
     "execution_count": 5,
     "metadata": {},
     "output_type": "execute_result"
    }
   ],
   "source": [
    "true_rating = 3.0\n",
    "rmse = math.sqrt(true_rating - r_u6_ml) ** 2\n",
    "rmse"
   ]
  },
  {
   "cell_type": "markdown",
   "metadata": {},
   "source": [
    "The predicted rating is around 2.7 (close to 3.0 with RMSE 0.22), which indicates that `user6` is also likely to complete the course `Machine Learning Capstone`. As such, we may recommend it to user6 with high confidence.\n"
   ]
  },
  {
   "cell_type": "markdown",
   "metadata": {},
   "source": [
    "## Objectives\n"
   ]
  },
  {
   "cell_type": "markdown",
   "metadata": {},
   "source": [
    "After completing this lab you will be able to:\n"
   ]
  },
  {
   "cell_type": "markdown",
   "metadata": {},
   "source": [
    "* Perform KNN-based collaborative filtering on the user-item interaction matrix\n"
   ]
  },
  {
   "cell_type": "markdown",
   "metadata": {},
   "source": [
    "----\n"
   ]
  },
  {
   "cell_type": "markdown",
   "metadata": {},
   "source": [
    "### Load and exploring dataset\n"
   ]
  },
  {
   "cell_type": "markdown",
   "metadata": {},
   "source": [
    "Let's first load our dataset, i.e., a user-item (learn-course) interaction matrix\n"
   ]
  },
  {
   "cell_type": "code",
   "execution_count": 6,
   "metadata": {},
   "outputs": [],
   "source": [
    "import pandas as pd"
   ]
  },
  {
   "cell_type": "code",
   "execution_count": 7,
   "metadata": {},
   "outputs": [],
   "source": [
    "rating_url = \"https://cf-courses-data.s3.us.cloud-object-storage.appdomain.cloud/IBM-ML321EN-SkillsNetwork/labs/datasets/ratings.csv\"\n",
    "rating_df = pd.read_csv(rating_url)"
   ]
  },
  {
   "cell_type": "code",
   "execution_count": 8,
   "metadata": {},
   "outputs": [
    {
     "data": {
      "text/html": [
       "<div>\n",
       "<style scoped>\n",
       "    .dataframe tbody tr th:only-of-type {\n",
       "        vertical-align: middle;\n",
       "    }\n",
       "\n",
       "    .dataframe tbody tr th {\n",
       "        vertical-align: top;\n",
       "    }\n",
       "\n",
       "    .dataframe thead th {\n",
       "        text-align: right;\n",
       "    }\n",
       "</style>\n",
       "<table border=\"1\" class=\"dataframe\">\n",
       "  <thead>\n",
       "    <tr style=\"text-align: right;\">\n",
       "      <th></th>\n",
       "      <th>user</th>\n",
       "      <th>item</th>\n",
       "      <th>rating</th>\n",
       "    </tr>\n",
       "  </thead>\n",
       "  <tbody>\n",
       "    <tr>\n",
       "      <th>0</th>\n",
       "      <td>1889878</td>\n",
       "      <td>CC0101EN</td>\n",
       "      <td>3.0</td>\n",
       "    </tr>\n",
       "    <tr>\n",
       "      <th>1</th>\n",
       "      <td>1342067</td>\n",
       "      <td>CL0101EN</td>\n",
       "      <td>3.0</td>\n",
       "    </tr>\n",
       "    <tr>\n",
       "      <th>2</th>\n",
       "      <td>1990814</td>\n",
       "      <td>ML0120ENv3</td>\n",
       "      <td>3.0</td>\n",
       "    </tr>\n",
       "    <tr>\n",
       "      <th>3</th>\n",
       "      <td>380098</td>\n",
       "      <td>BD0211EN</td>\n",
       "      <td>3.0</td>\n",
       "    </tr>\n",
       "    <tr>\n",
       "      <th>4</th>\n",
       "      <td>779563</td>\n",
       "      <td>DS0101EN</td>\n",
       "      <td>3.0</td>\n",
       "    </tr>\n",
       "  </tbody>\n",
       "</table>\n",
       "</div>"
      ],
      "text/plain": [
       "      user        item  rating\n",
       "0  1889878    CC0101EN     3.0\n",
       "1  1342067    CL0101EN     3.0\n",
       "2  1990814  ML0120ENv3     3.0\n",
       "3   380098    BD0211EN     3.0\n",
       "4   779563    DS0101EN     3.0"
      ]
     },
     "execution_count": 8,
     "metadata": {},
     "output_type": "execute_result"
    }
   ],
   "source": [
    "rating_df.head()"
   ]
  },
  {
   "cell_type": "markdown",
   "metadata": {},
   "source": [
    "The dataset contains three columns, `user id` (learner), `item id`(course), and `rating`(enrollment mode). \n",
    "\n",
    "Note that this matrix is presented as the dense or vertical form, and you may convert it to a sparse matrix using `pivot` :\n"
   ]
  },
  {
   "cell_type": "code",
   "execution_count": 9,
   "metadata": {},
   "outputs": [
    {
     "data": {
      "text/html": [
       "<div>\n",
       "<style scoped>\n",
       "    .dataframe tbody tr th:only-of-type {\n",
       "        vertical-align: middle;\n",
       "    }\n",
       "\n",
       "    .dataframe tbody tr th {\n",
       "        vertical-align: top;\n",
       "    }\n",
       "\n",
       "    .dataframe thead th {\n",
       "        text-align: right;\n",
       "    }\n",
       "</style>\n",
       "<table border=\"1\" class=\"dataframe\">\n",
       "  <thead>\n",
       "    <tr style=\"text-align: right;\">\n",
       "      <th></th>\n",
       "      <th>user</th>\n",
       "      <th>AI0111EN</th>\n",
       "      <th>BC0101EN</th>\n",
       "      <th>BC0201EN</th>\n",
       "      <th>BC0202EN</th>\n",
       "      <th>BD0101EN</th>\n",
       "      <th>BD0111EN</th>\n",
       "      <th>BD0115EN</th>\n",
       "      <th>BD0121EN</th>\n",
       "      <th>BD0123EN</th>\n",
       "      <th>...</th>\n",
       "      <th>SW0201EN</th>\n",
       "      <th>TA0105</th>\n",
       "      <th>TA0105EN</th>\n",
       "      <th>TA0106EN</th>\n",
       "      <th>TMP0101EN</th>\n",
       "      <th>TMP0105EN</th>\n",
       "      <th>TMP0106</th>\n",
       "      <th>TMP107</th>\n",
       "      <th>WA0101EN</th>\n",
       "      <th>WA0103EN</th>\n",
       "    </tr>\n",
       "  </thead>\n",
       "  <tbody>\n",
       "    <tr>\n",
       "      <th>0</th>\n",
       "      <td>2</td>\n",
       "      <td>0.0</td>\n",
       "      <td>3.0</td>\n",
       "      <td>0.0</td>\n",
       "      <td>0.0</td>\n",
       "      <td>3.0</td>\n",
       "      <td>2.0</td>\n",
       "      <td>0.0</td>\n",
       "      <td>2.0</td>\n",
       "      <td>2.0</td>\n",
       "      <td>...</td>\n",
       "      <td>0.0</td>\n",
       "      <td>2.0</td>\n",
       "      <td>0.0</td>\n",
       "      <td>3.0</td>\n",
       "      <td>0.0</td>\n",
       "      <td>2.0</td>\n",
       "      <td>2.0</td>\n",
       "      <td>0.0</td>\n",
       "      <td>3.0</td>\n",
       "      <td>0.0</td>\n",
       "    </tr>\n",
       "    <tr>\n",
       "      <th>1</th>\n",
       "      <td>4</td>\n",
       "      <td>0.0</td>\n",
       "      <td>0.0</td>\n",
       "      <td>0.0</td>\n",
       "      <td>0.0</td>\n",
       "      <td>2.0</td>\n",
       "      <td>2.0</td>\n",
       "      <td>2.0</td>\n",
       "      <td>2.0</td>\n",
       "      <td>2.0</td>\n",
       "      <td>...</td>\n",
       "      <td>0.0</td>\n",
       "      <td>2.0</td>\n",
       "      <td>0.0</td>\n",
       "      <td>0.0</td>\n",
       "      <td>0.0</td>\n",
       "      <td>2.0</td>\n",
       "      <td>2.0</td>\n",
       "      <td>0.0</td>\n",
       "      <td>2.0</td>\n",
       "      <td>2.0</td>\n",
       "    </tr>\n",
       "    <tr>\n",
       "      <th>2</th>\n",
       "      <td>5</td>\n",
       "      <td>2.0</td>\n",
       "      <td>2.0</td>\n",
       "      <td>2.0</td>\n",
       "      <td>0.0</td>\n",
       "      <td>2.0</td>\n",
       "      <td>0.0</td>\n",
       "      <td>0.0</td>\n",
       "      <td>0.0</td>\n",
       "      <td>2.0</td>\n",
       "      <td>...</td>\n",
       "      <td>0.0</td>\n",
       "      <td>0.0</td>\n",
       "      <td>2.0</td>\n",
       "      <td>2.0</td>\n",
       "      <td>2.0</td>\n",
       "      <td>2.0</td>\n",
       "      <td>2.0</td>\n",
       "      <td>2.0</td>\n",
       "      <td>0.0</td>\n",
       "      <td>2.0</td>\n",
       "    </tr>\n",
       "    <tr>\n",
       "      <th>3</th>\n",
       "      <td>7</td>\n",
       "      <td>0.0</td>\n",
       "      <td>0.0</td>\n",
       "      <td>0.0</td>\n",
       "      <td>0.0</td>\n",
       "      <td>0.0</td>\n",
       "      <td>0.0</td>\n",
       "      <td>0.0</td>\n",
       "      <td>0.0</td>\n",
       "      <td>0.0</td>\n",
       "      <td>...</td>\n",
       "      <td>0.0</td>\n",
       "      <td>0.0</td>\n",
       "      <td>0.0</td>\n",
       "      <td>0.0</td>\n",
       "      <td>0.0</td>\n",
       "      <td>0.0</td>\n",
       "      <td>0.0</td>\n",
       "      <td>0.0</td>\n",
       "      <td>0.0</td>\n",
       "      <td>0.0</td>\n",
       "    </tr>\n",
       "    <tr>\n",
       "      <th>4</th>\n",
       "      <td>8</td>\n",
       "      <td>0.0</td>\n",
       "      <td>0.0</td>\n",
       "      <td>0.0</td>\n",
       "      <td>0.0</td>\n",
       "      <td>0.0</td>\n",
       "      <td>2.0</td>\n",
       "      <td>0.0</td>\n",
       "      <td>0.0</td>\n",
       "      <td>0.0</td>\n",
       "      <td>...</td>\n",
       "      <td>0.0</td>\n",
       "      <td>0.0</td>\n",
       "      <td>0.0</td>\n",
       "      <td>0.0</td>\n",
       "      <td>0.0</td>\n",
       "      <td>0.0</td>\n",
       "      <td>0.0</td>\n",
       "      <td>0.0</td>\n",
       "      <td>0.0</td>\n",
       "      <td>0.0</td>\n",
       "    </tr>\n",
       "  </tbody>\n",
       "</table>\n",
       "<p>5 rows × 127 columns</p>\n",
       "</div>"
      ],
      "text/plain": [
       "   user  AI0111EN  BC0101EN  BC0201EN  BC0202EN  BD0101EN  BD0111EN  BD0115EN  \\\n",
       "0     2       0.0       3.0       0.0       0.0       3.0       2.0       0.0   \n",
       "1     4       0.0       0.0       0.0       0.0       2.0       2.0       2.0   \n",
       "2     5       2.0       2.0       2.0       0.0       2.0       0.0       0.0   \n",
       "3     7       0.0       0.0       0.0       0.0       0.0       0.0       0.0   \n",
       "4     8       0.0       0.0       0.0       0.0       0.0       2.0       0.0   \n",
       "\n",
       "   BD0121EN  BD0123EN  ...  SW0201EN  TA0105  TA0105EN  TA0106EN  TMP0101EN  \\\n",
       "0       2.0       2.0  ...       0.0     2.0       0.0       3.0        0.0   \n",
       "1       2.0       2.0  ...       0.0     2.0       0.0       0.0        0.0   \n",
       "2       0.0       2.0  ...       0.0     0.0       2.0       2.0        2.0   \n",
       "3       0.0       0.0  ...       0.0     0.0       0.0       0.0        0.0   \n",
       "4       0.0       0.0  ...       0.0     0.0       0.0       0.0        0.0   \n",
       "\n",
       "   TMP0105EN  TMP0106  TMP107  WA0101EN  WA0103EN  \n",
       "0        2.0      2.0     0.0       3.0       0.0  \n",
       "1        2.0      2.0     0.0       2.0       2.0  \n",
       "2        2.0      2.0     2.0       0.0       2.0  \n",
       "3        0.0      0.0     0.0       0.0       0.0  \n",
       "4        0.0      0.0     0.0       0.0       0.0  \n",
       "\n",
       "[5 rows x 127 columns]"
      ]
     },
     "execution_count": 9,
     "metadata": {},
     "output_type": "execute_result"
    }
   ],
   "source": [
    "rating_sparse_df = rating_df.pivot(index='user', columns='item', values='rating').fillna(0).reset_index().rename_axis(index=None, columns=None)\n",
    "rating_sparse_df.head()"
   ]
  },
  {
   "cell_type": "markdown",
   "metadata": {},
   "source": [
    "Usually, the dense format is more preferred as it saves a lot of storage and memory space. While the benefit of the sparse matrix is it is in the nature matrix format and you could apply computations such as cosine similarity directly.\n"
   ]
  },
  {
   "cell_type": "markdown",
   "metadata": {},
   "source": [
    "Next, you need to perform KNN-based collaborative filtering on the user-item interaction matrix. \n",
    "You may choose one of the two following implementation options of KNN-based collaborative filtering. \n",
    "- The first one is to use `scikit-surprise` which is a popular and easy-to-use Python recommendation system library. \n",
    "- The second way is to implement it with standard `numpy`, `pandas`, and `sklearn`. You may need to write a lot of low-level implementation code along the way.\n"
   ]
  },
  {
   "cell_type": "markdown",
   "metadata": {},
   "source": [
    "## Implementation Option 1: Use **Surprise** library (recommended)\n"
   ]
  },
  {
   "cell_type": "markdown",
   "metadata": {},
   "source": [
    "*Surprise* is a Python sci-kit library for recommender systems. It is simple and comprehensive to build and test different recommendation algorithms. \n",
    "\n",
    "First, let's install it:\n"
   ]
  },
  {
   "cell_type": "code",
   "execution_count": 2,
   "metadata": {
    "collapsed": true,
    "jupyter": {
     "outputs_hidden": true
    },
    "tags": []
   },
   "outputs": [
    {
     "name": "stdout",
     "output_type": "stream",
     "text": [
      "Requirement already satisfied: scikit-surprise==1.1.1 in c:\\users\\compac\\appdata\\local\\programs\\python\\python311\\lib\\site-packages (1.1.1)\n",
      "Requirement already satisfied: joblib>=0.11 in c:\\users\\compac\\appdata\\local\\programs\\python\\python311\\lib\\site-packages (from scikit-surprise==1.1.1) (1.2.0)\n",
      "Requirement already satisfied: numpy>=1.11.2 in c:\\users\\compac\\appdata\\local\\programs\\python\\python311\\lib\\site-packages (from scikit-surprise==1.1.1) (1.23.5)\n",
      "Requirement already satisfied: scipy>=1.0.0 in c:\\users\\compac\\appdata\\local\\programs\\python\\python311\\lib\\site-packages (from scikit-surprise==1.1.1) (1.10.0)\n",
      "Requirement already satisfied: six>=1.10.0 in c:\\users\\compac\\appdata\\local\\programs\\python\\python311\\lib\\site-packages (from scikit-surprise==1.1.1) (1.16.0)\n"
     ]
    }
   ],
   "source": [
    "#!pip install scikit-surprise==1.1.1"
   ]
  },
  {
   "cell_type": "markdown",
   "metadata": {},
   "source": [
    "Now we import required classes and methods\n"
   ]
  },
  {
   "cell_type": "code",
   "execution_count": 10,
   "metadata": {},
   "outputs": [],
   "source": [
    "from surprise import KNNBasic\n",
    "from surprise import Dataset, Reader\n",
    "from surprise.model_selection import train_test_split\n",
    "from surprise import accuracy"
   ]
  },
  {
   "cell_type": "markdown",
   "metadata": {},
   "source": [
    "Then, let's take a look at a code example how easily to perform KNN collaborative filtering on a sample movie review dataset, which contains about 100k movie ratings from users.\n"
   ]
  },
  {
   "cell_type": "code",
   "execution_count": 11,
   "metadata": {
    "tags": []
   },
   "outputs": [
    {
     "data": {
      "text/plain": [
       "'1.23.5'"
      ]
     },
     "execution_count": 11,
     "metadata": {},
     "output_type": "execute_result"
    }
   ],
   "source": [
    "import numpy\n",
    "numpy.version.version"
   ]
  },
  {
   "cell_type": "code",
   "execution_count": 12,
   "metadata": {},
   "outputs": [
    {
     "name": "stdout",
     "output_type": "stream",
     "text": [
      "Computing the msd similarity matrix...\n",
      "Done computing similarity matrix.\n",
      "RMSE: 0.9791\n"
     ]
    },
    {
     "data": {
      "text/plain": [
       "0.979056350705886"
      ]
     },
     "execution_count": 12,
     "metadata": {},
     "output_type": "execute_result"
    }
   ],
   "source": [
    "# Load the movielens-100k dataset (download it if needed),\n",
    "data = Dataset.load_builtin('ml-100k', prompt=False)\n",
    "\n",
    "# sample random trainset and testset\n",
    "# test set is made of 25% of the ratings.\n",
    "trainset, testset = train_test_split(data, test_size=.25)\n",
    "\n",
    "# We'll use the famous KNNBasic algorithm.\n",
    "algo = KNNBasic()\n",
    "\n",
    "# Train the algorithm on the trainset, and predict ratings for the testset\n",
    "algo.fit(trainset)\n",
    "predictions = algo.test(testset)\n",
    "\n",
    "# Then compute RMSE\n",
    "accuracy.rmse(predictions)"
   ]
  },
  {
   "cell_type": "code",
   "execution_count": 15,
   "metadata": {
    "collapsed": true,
    "jupyter": {
     "outputs_hidden": true
    },
    "tags": []
   },
   "outputs": [
    {
     "data": {
      "text/plain": [
       "[Prediction(uid='458', iid='694', r_ui=4.0, est=3.973337413437159, details={'actual_k': 30, 'was_impossible': False}),\n",
       " Prediction(uid='256', iid='1150', r_ui=5.0, est=2.704852875992944, details={'actual_k': 4, 'was_impossible': False}),\n",
       " Prediction(uid='363', iid='859', r_ui=4.0, est=2.577845771226977, details={'actual_k': 11, 'was_impossible': False}),\n",
       " Prediction(uid='6', iid='22', r_ui=3.0, est=3.8191019375895214, details={'actual_k': 40, 'was_impossible': False}),\n",
       " Prediction(uid='698', iid='86', r_ui=2.0, est=3.92029443885759, details={'actual_k': 40, 'was_impossible': False}),\n",
       " Prediction(uid='503', iid='173', r_ui=5.0, est=4.3214321625370475, details={'actual_k': 40, 'was_impossible': False}),\n",
       " Prediction(uid='684', iid='98', r_ui=4.0, est=4.573645948645771, details={'actual_k': 40, 'was_impossible': False}),\n",
       " Prediction(uid='100', iid='313', r_ui=5.0, est=4.172849878192331, details={'actual_k': 40, 'was_impossible': False}),\n",
       " Prediction(uid='321', iid='124', r_ui=3.0, est=4.070438250338153, details={'actual_k': 40, 'was_impossible': False}),\n",
       " Prediction(uid='660', iid='265', r_ui=2.0, est=3.5230365660311795, details={'actual_k': 40, 'was_impossible': False}),\n",
       " Prediction(uid='351', iid='359', r_ui=4.0, est=4.050451250798799, details={'actual_k': 14, 'was_impossible': False}),\n",
       " Prediction(uid='416', iid='259', r_ui=2.0, est=3.0311493073950717, details={'actual_k': 40, 'was_impossible': False}),\n",
       " Prediction(uid='429', iid='672', r_ui=2.0, est=2.5710284399778907, details={'actual_k': 40, 'was_impossible': False}),\n",
       " Prediction(uid='268', iid='40', r_ui=3.0, est=2.7674955907535232, details={'actual_k': 40, 'was_impossible': False}),\n",
       " Prediction(uid='474', iid='1020', r_ui=3.0, est=3.9626489271798437, details={'actual_k': 25, 'was_impossible': False}),\n",
       " Prediction(uid='197', iid='530', r_ui=3.0, est=4.1204433181018, details={'actual_k': 40, 'was_impossible': False}),\n",
       " Prediction(uid='422', iid='307', r_ui=4.0, est=3.4570658651485906, details={'actual_k': 40, 'was_impossible': False}),\n",
       " Prediction(uid='276', iid='290', r_ui=4.0, est=3.1826711674443926, details={'actual_k': 40, 'was_impossible': False}),\n",
       " Prediction(uid='551', iid='143', r_ui=4.0, est=4.113127753086637, details={'actual_k': 40, 'was_impossible': False}),\n",
       " Prediction(uid='312', iid='157', r_ui=1.0, est=4.173094670405757, details={'actual_k': 40, 'was_impossible': False}),\n",
       " Prediction(uid='245', iid='756', r_ui=3.0, est=3.187016398244189, details={'actual_k': 40, 'was_impossible': False}),\n",
       " Prediction(uid='655', iid='909', r_ui=3.0, est=3.906316477144931, details={'actual_k': 7, 'was_impossible': False}),\n",
       " Prediction(uid='306', iid='150', r_ui=5.0, est=3.801659804784736, details={'actual_k': 40, 'was_impossible': False}),\n",
       " Prediction(uid='416', iid='1426', r_ui=5.0, est=3.0857688248637456, details={'actual_k': 7, 'was_impossible': False}),\n",
       " Prediction(uid='178', iid='591', r_ui=5.0, est=3.761195035479311, details={'actual_k': 40, 'was_impossible': False}),\n",
       " Prediction(uid='90', iid='269', r_ui=5.0, est=4.198815885876404, details={'actual_k': 40, 'was_impossible': False}),\n",
       " Prediction(uid='452', iid='285', r_ui=3.0, est=4.439026157175591, details={'actual_k': 40, 'was_impossible': False}),\n",
       " Prediction(uid='815', iid='837', r_ui=5.0, est=3.7529537698784474, details={'actual_k': 16, 'was_impossible': False}),\n",
       " Prediction(uid='843', iid='173', r_ui=2.0, est=3.95830624329079, details={'actual_k': 40, 'was_impossible': False}),\n",
       " Prediction(uid='385', iid='653', r_ui=4.0, est=4.016965450814443, details={'actual_k': 26, 'was_impossible': False}),\n",
       " Prediction(uid='798', iid='1119', r_ui=3.0, est=3.4952917018608436, details={'actual_k': 40, 'was_impossible': False}),\n",
       " Prediction(uid='457', iid='144', r_ui=5.0, est=4.342162927076258, details={'actual_k': 40, 'was_impossible': False}),\n",
       " Prediction(uid='90', iid='521', r_ui=4.0, est=4.092188262726735, details={'actual_k': 40, 'was_impossible': False}),\n",
       " Prediction(uid='64', iid='1065', r_ui=1.0, est=3.6845167638673675, details={'actual_k': 40, 'was_impossible': False}),\n",
       " Prediction(uid='908', iid='434', r_ui=4.0, est=3.718164152547416, details={'actual_k': 40, 'was_impossible': False}),\n",
       " Prediction(uid='608', iid='1039', r_ui=5.0, est=3.8856853284358297, details={'actual_k': 40, 'was_impossible': False}),\n",
       " Prediction(uid='279', iid='412', r_ui=3.0, est=2.4922472840246797, details={'actual_k': 40, 'was_impossible': False}),\n",
       " Prediction(uid='181', iid='1034', r_ui=1.0, est=2.2969548139419644, details={'actual_k': 21, 'was_impossible': False}),\n",
       " Prediction(uid='234', iid='747', r_ui=3.0, est=3.359990387576913, details={'actual_k': 40, 'was_impossible': False}),\n",
       " Prediction(uid='178', iid='276', r_ui=3.0, est=3.559257249799258, details={'actual_k': 40, 'was_impossible': False}),\n",
       " Prediction(uid='239', iid='492', r_ui=3.0, est=4.018150772872206, details={'actual_k': 40, 'was_impossible': False}),\n",
       " Prediction(uid='704', iid='156', r_ui=3.0, est=3.9572637907641424, details={'actual_k': 40, 'was_impossible': False}),\n",
       " Prediction(uid='173', iid='321', r_ui=4.0, est=3.4442948305095427, details={'actual_k': 40, 'was_impossible': False}),\n",
       " Prediction(uid='836', iid='531', r_ui=4.0, est=4.020050245089935, details={'actual_k': 40, 'was_impossible': False}),\n",
       " Prediction(uid='896', iid='133', r_ui=2.0, est=3.8130735708100834, details={'actual_k': 40, 'was_impossible': False}),\n",
       " Prediction(uid='434', iid='9', r_ui=1.0, est=3.9290925166116466, details={'actual_k': 40, 'was_impossible': False}),\n",
       " Prediction(uid='691', iid='50', r_ui=4.0, est=4.355883379888269, details={'actual_k': 40, 'was_impossible': False}),\n",
       " Prediction(uid='49', iid='928', r_ui=2.0, est=2.574911910919402, details={'actual_k': 40, 'was_impossible': False}),\n",
       " Prediction(uid='782', iid='1610', r_ui=1.0, est=2.0, details={'actual_k': 1, 'was_impossible': False}),\n",
       " Prediction(uid='774', iid='122', r_ui=1.0, est=2.199249702886775, details={'actual_k': 40, 'was_impossible': False}),\n",
       " Prediction(uid='805', iid='98', r_ui=5.0, est=4.099448210375206, details={'actual_k': 40, 'was_impossible': False}),\n",
       " Prediction(uid='510', iid='1025', r_ui=3.0, est=2.9825213283777834, details={'actual_k': 29, 'was_impossible': False}),\n",
       " Prediction(uid='646', iid='908', r_ui=3.0, est=2.7649786488868213, details={'actual_k': 15, 'was_impossible': False}),\n",
       " Prediction(uid='668', iid='231', r_ui=2.0, est=2.670555088387514, details={'actual_k': 40, 'was_impossible': False}),\n",
       " Prediction(uid='343', iid='499', r_ui=5.0, est=4.0394254932677205, details={'actual_k': 40, 'was_impossible': False}),\n",
       " Prediction(uid='313', iid='436', r_ui=4.0, est=3.56869386797213, details={'actual_k': 40, 'was_impossible': False}),\n",
       " Prediction(uid='194', iid='274', r_ui=2.0, est=3.187492434847581, details={'actual_k': 40, 'was_impossible': False}),\n",
       " Prediction(uid='867', iid='150', r_ui=5.0, est=4.034330636142233, details={'actual_k': 40, 'was_impossible': False}),\n",
       " Prediction(uid='303', iid='191', r_ui=5.0, est=4.4971277273921295, details={'actual_k': 40, 'was_impossible': False}),\n",
       " Prediction(uid='654', iid='1283', r_ui=1.0, est=3.081142164567718, details={'actual_k': 8, 'was_impossible': False}),\n",
       " Prediction(uid='11', iid='176', r_ui=3.0, est=4.1326057442489015, details={'actual_k': 40, 'was_impossible': False}),\n",
       " Prediction(uid='280', iid='449', r_ui=3.0, est=2.863243645227936, details={'actual_k': 40, 'was_impossible': False}),\n",
       " Prediction(uid='263', iid='526', r_ui=5.0, est=4.205406451619238, details={'actual_k': 40, 'was_impossible': False}),\n",
       " Prediction(uid='468', iid='161', r_ui=3.0, est=3.649312070821562, details={'actual_k': 40, 'was_impossible': False}),\n",
       " Prediction(uid='634', iid='287', r_ui=3.0, est=3.770553009446782, details={'actual_k': 40, 'was_impossible': False}),\n",
       " Prediction(uid='727', iid='1042', r_ui=2.0, est=3.195757075374621, details={'actual_k': 21, 'was_impossible': False}),\n",
       " Prediction(uid='234', iid='502', r_ui=4.0, est=3.686144882518226, details={'actual_k': 39, 'was_impossible': False}),\n",
       " Prediction(uid='708', iid='690', r_ui=4.0, est=3.4723936983344217, details={'actual_k': 40, 'was_impossible': False}),\n",
       " Prediction(uid='632', iid='357', r_ui=4.0, est=4.437528954123852, details={'actual_k': 40, 'was_impossible': False}),\n",
       " Prediction(uid='99', iid='125', r_ui=4.0, est=3.6000231193524748, details={'actual_k': 40, 'was_impossible': False}),\n",
       " Prediction(uid='577', iid='468', r_ui=3.0, est=3.5525022417933565, details={'actual_k': 40, 'was_impossible': False}),\n",
       " Prediction(uid='303', iid='919', r_ui=4.0, est=3.8524281861192073, details={'actual_k': 40, 'was_impossible': False}),\n",
       " Prediction(uid='416', iid='1441', r_ui=3.0, est=2.8250526832270015, details={'actual_k': 4, 'was_impossible': False}),\n",
       " Prediction(uid='566', iid='392', r_ui=4.0, est=3.3139777882244927, details={'actual_k': 40, 'was_impossible': False}),\n",
       " Prediction(uid='267', iid='294', r_ui=3.0, est=3.0220751245598287, details={'actual_k': 40, 'was_impossible': False}),\n",
       " Prediction(uid='889', iid='509', r_ui=2.0, est=3.6895365280758297, details={'actual_k': 40, 'was_impossible': False}),\n",
       " Prediction(uid='249', iid='212', r_ui=4.0, est=3.6483088809590565, details={'actual_k': 40, 'was_impossible': False}),\n",
       " Prediction(uid='334', iid='9', r_ui=4.0, est=3.9550660128718427, details={'actual_k': 40, 'was_impossible': False}),\n",
       " Prediction(uid='932', iid='708', r_ui=4.0, est=3.8534624229174104, details={'actual_k': 40, 'was_impossible': False}),\n",
       " Prediction(uid='151', iid='836', r_ui=4.0, est=3.890294973303884, details={'actual_k': 19, 'was_impossible': False}),\n",
       " Prediction(uid='690', iid='120', r_ui=1.0, est=2.1752600317253195, details={'actual_k': 40, 'was_impossible': False}),\n",
       " Prediction(uid='207', iid='135', r_ui=2.0, est=3.7599423813616077, details={'actual_k': 40, 'was_impossible': False}),\n",
       " Prediction(uid='130', iid='469', r_ui=5.0, est=3.7778183176646154, details={'actual_k': 40, 'was_impossible': False}),\n",
       " Prediction(uid='279', iid='233', r_ui=5.0, est=3.200651400793179, details={'actual_k': 40, 'was_impossible': False}),\n",
       " Prediction(uid='666', iid='513', r_ui=4.0, est=4.494614728508705, details={'actual_k': 40, 'was_impossible': False}),\n",
       " Prediction(uid='222', iid='895', r_ui=4.0, est=3.332103374242009, details={'actual_k': 40, 'was_impossible': False}),\n",
       " Prediction(uid='886', iid='584', r_ui=4.0, est=3.6229147942448106, details={'actual_k': 40, 'was_impossible': False}),\n",
       " Prediction(uid='890', iid='479', r_ui=5.0, est=4.448551193435534, details={'actual_k': 40, 'was_impossible': False}),\n",
       " Prediction(uid='472', iid='234', r_ui=4.0, est=4.378758654039894, details={'actual_k': 40, 'was_impossible': False}),\n",
       " Prediction(uid='846', iid='231', r_ui=2.0, est=2.805923666684103, details={'actual_k': 40, 'was_impossible': False}),\n",
       " Prediction(uid='230', iid='228', r_ui=2.0, est=3.8550715441801713, details={'actual_k': 40, 'was_impossible': False}),\n",
       " Prediction(uid='327', iid='466', r_ui=3.0, est=3.675399712039704, details={'actual_k': 38, 'was_impossible': False}),\n",
       " Prediction(uid='501', iid='405', r_ui=4.0, est=3.3451664304005773, details={'actual_k': 40, 'was_impossible': False}),\n",
       " Prediction(uid='530', iid='255', r_ui=4.0, est=3.4285714173593513, details={'actual_k': 40, 'was_impossible': False}),\n",
       " Prediction(uid='786', iid='240', r_ui=1.0, est=2.7924551099792954, details={'actual_k': 40, 'was_impossible': False}),\n",
       " Prediction(uid='796', iid='106', r_ui=2.0, est=3.0167199487855187, details={'actual_k': 40, 'was_impossible': False}),\n",
       " Prediction(uid='883', iid='712', r_ui=3.0, est=3.079101838123326, details={'actual_k': 34, 'was_impossible': False}),\n",
       " Prediction(uid='417', iid='123', r_ui=2.0, est=3.116709520560086, details={'actual_k': 40, 'was_impossible': False}),\n",
       " Prediction(uid='833', iid='467', r_ui=2.0, est=3.837735237107136, details={'actual_k': 40, 'was_impossible': False}),\n",
       " Prediction(uid='276', iid='21', r_ui=3.0, est=2.747445666943928, details={'actual_k': 40, 'was_impossible': False}),\n",
       " Prediction(uid='393', iid='831', r_ui=1.0, est=2.7101634451304837, details={'actual_k': 40, 'was_impossible': False}),\n",
       " Prediction(uid='639', iid='1005', r_ui=2.0, est=3.779641555691777, details={'actual_k': 16, 'was_impossible': False}),\n",
       " Prediction(uid='41', iid='196', r_ui=3.0, est=3.875576980245413, details={'actual_k': 40, 'was_impossible': False}),\n",
       " Prediction(uid='854', iid='514', r_ui=4.0, est=3.8338049768748523, details={'actual_k': 40, 'was_impossible': False}),\n",
       " Prediction(uid='456', iid='228', r_ui=3.0, est=3.7031267366579392, details={'actual_k': 40, 'was_impossible': False}),\n",
       " Prediction(uid='299', iid='889', r_ui=3.0, est=3.4070426756369265, details={'actual_k': 11, 'was_impossible': False}),\n",
       " Prediction(uid='268', iid='810', r_ui=2.0, est=2.838297595780543, details={'actual_k': 39, 'was_impossible': False}),\n",
       " Prediction(uid='618', iid='132', r_ui=4.0, est=4.12198329285471, details={'actual_k': 40, 'was_impossible': False}),\n",
       " Prediction(uid='450', iid='193', r_ui=5.0, est=4.1345613558292404, details={'actual_k': 40, 'was_impossible': False}),\n",
       " Prediction(uid='716', iid='1047', r_ui=3.0, est=2.8762998955489807, details={'actual_k': 40, 'was_impossible': False}),\n",
       " Prediction(uid='83', iid='215', r_ui=4.0, est=4.184857389763911, details={'actual_k': 40, 'was_impossible': False}),\n",
       " Prediction(uid='445', iid='979', r_ui=2.0, est=3.1408077319845256, details={'actual_k': 27, 'was_impossible': False}),\n",
       " Prediction(uid='296', iid='301', r_ui=5.0, est=3.4596889321368995, details={'actual_k': 40, 'was_impossible': False}),\n",
       " Prediction(uid='920', iid='682', r_ui=3.0, est=3.0076005930346676, details={'actual_k': 40, 'was_impossible': False}),\n",
       " Prediction(uid='864', iid='114', r_ui=5.0, est=4.445242050965108, details={'actual_k': 40, 'was_impossible': False}),\n",
       " Prediction(uid='541', iid='560', r_ui=3.0, est=2.715040093829669, details={'actual_k': 14, 'was_impossible': False}),\n",
       " Prediction(uid='233', iid='100', r_ui=4.0, est=4.196686003390021, details={'actual_k': 40, 'was_impossible': False}),\n",
       " Prediction(uid='293', iid='471', r_ui=3.0, est=3.3461150928503267, details={'actual_k': 40, 'was_impossible': False}),\n",
       " Prediction(uid='136', iid='9', r_ui=5.0, est=4.351265294686085, details={'actual_k': 40, 'was_impossible': False}),\n",
       " Prediction(uid='446', iid='322', r_ui=3.0, est=3.07269456622167, details={'actual_k': 40, 'was_impossible': False}),\n",
       " Prediction(uid='805', iid='959', r_ui=2.0, est=3.4782937197410058, details={'actual_k': 40, 'was_impossible': False}),\n",
       " Prediction(uid='387', iid='28', r_ui=5.0, est=3.7762715029607548, details={'actual_k': 40, 'was_impossible': False}),\n",
       " Prediction(uid='452', iid='76', r_ui=4.0, est=3.452685424500213, details={'actual_k': 40, 'was_impossible': False}),\n",
       " Prediction(uid='933', iid='765', r_ui=1.0, est=2.792611862501217, details={'actual_k': 26, 'was_impossible': False}),\n",
       " Prediction(uid='59', iid='50', r_ui=5.0, est=4.575624832284881, details={'actual_k': 40, 'was_impossible': False}),\n",
       " Prediction(uid='315', iid='168', r_ui=4.0, est=4.350182580470276, details={'actual_k': 40, 'was_impossible': False}),\n",
       " Prediction(uid='682', iid='121', r_ui=4.0, est=3.473544862829744, details={'actual_k': 40, 'was_impossible': False}),\n",
       " Prediction(uid='10', iid='275', r_ui=4.0, est=4.268336190882088, details={'actual_k': 40, 'was_impossible': False}),\n",
       " Prediction(uid='532', iid='345', r_ui=4.0, est=3.4046405108325253, details={'actual_k': 40, 'was_impossible': False}),\n",
       " Prediction(uid='397', iid='194', r_ui=3.0, est=4.212339060918574, details={'actual_k': 40, 'was_impossible': False}),\n",
       " Prediction(uid='892', iid='705', r_ui=4.0, est=4.188258801068116, details={'actual_k': 40, 'was_impossible': False}),\n",
       " Prediction(uid='493', iid='262', r_ui=3.0, est=3.8831287901216327, details={'actual_k': 40, 'was_impossible': False}),\n",
       " Prediction(uid='125', iid='90', r_ui=5.0, est=3.0366613212259406, details={'actual_k': 40, 'was_impossible': False}),\n",
       " Prediction(uid='305', iid='485', r_ui=2.0, est=3.7095415765633386, details={'actual_k': 40, 'was_impossible': False}),\n",
       " Prediction(uid='308', iid='516', r_ui=4.0, est=4.292966518792648, details={'actual_k': 40, 'was_impossible': False}),\n",
       " Prediction(uid='463', iid='112', r_ui=1.0, est=2.5441672734181853, details={'actual_k': 14, 'was_impossible': False}),\n",
       " Prediction(uid='470', iid='129', r_ui=3.0, est=3.926143107630595, details={'actual_k': 40, 'was_impossible': False}),\n",
       " Prediction(uid='95', iid='48', r_ui=4.0, est=4.273420497887321, details={'actual_k': 40, 'was_impossible': False}),\n",
       " Prediction(uid='536', iid='71', r_ui=5.0, est=3.8129179534125823, details={'actual_k': 40, 'was_impossible': False}),\n",
       " Prediction(uid='232', iid='419', r_ui=4.0, est=3.801640730866315, details={'actual_k': 40, 'was_impossible': False}),\n",
       " Prediction(uid='795', iid='434', r_ui=3.0, est=3.7920598317904117, details={'actual_k': 40, 'was_impossible': False}),\n",
       " Prediction(uid='235', iid='524', r_ui=5.0, est=3.962982444636402, details={'actual_k': 33, 'was_impossible': False}),\n",
       " Prediction(uid='391', iid='194', r_ui=4.0, est=3.9991205873227305, details={'actual_k': 40, 'was_impossible': False}),\n",
       " Prediction(uid='861', iid='10', r_ui=3.0, est=3.820086093559413, details={'actual_k': 40, 'was_impossible': False}),\n",
       " Prediction(uid='13', iid='205', r_ui=2.0, est=4.275221993447632, details={'actual_k': 40, 'was_impossible': False}),\n",
       " Prediction(uid='861', iid='1227', r_ui=4.0, est=2.34266799857779, details={'actual_k': 5, 'was_impossible': False}),\n",
       " Prediction(uid='804', iid='1', r_ui=5.0, est=4.134292505701619, details={'actual_k': 40, 'was_impossible': False}),\n",
       " Prediction(uid='325', iid='1018', r_ui=3.0, est=3.1955554520402267, details={'actual_k': 22, 'was_impossible': False}),\n",
       " Prediction(uid='749', iid='144', r_ui=5.0, est=3.9891576439984444, details={'actual_k': 40, 'was_impossible': False}),\n",
       " Prediction(uid='298', iid='152', r_ui=3.0, est=3.643446707172172, details={'actual_k': 40, 'was_impossible': False}),\n",
       " Prediction(uid='417', iid='638', r_ui=4.0, est=3.9266787244255537, details={'actual_k': 30, 'was_impossible': False}),\n",
       " Prediction(uid='458', iid='302', r_ui=5.0, est=4.017253463207526, details={'actual_k': 40, 'was_impossible': False}),\n",
       " Prediction(uid='774', iid='405', r_ui=1.0, est=2.681376678855363, details={'actual_k': 40, 'was_impossible': False}),\n",
       " Prediction(uid='495', iid='4', r_ui=3.0, est=3.9633641878520676, details={'actual_k': 40, 'was_impossible': False}),\n",
       " Prediction(uid='561', iid='117', r_ui=3.0, est=3.4556976149571144, details={'actual_k': 40, 'was_impossible': False}),\n",
       " Prediction(uid='49', iid='514', r_ui=4.0, est=3.957256584010723, details={'actual_k': 40, 'was_impossible': False}),\n",
       " Prediction(uid='83', iid='477', r_ui=2.0, est=3.319207092964561, details={'actual_k': 40, 'was_impossible': False}),\n",
       " Prediction(uid='313', iid='99', r_ui=4.0, est=3.9564261283968576, details={'actual_k': 40, 'was_impossible': False}),\n",
       " Prediction(uid='314', iid='28', r_ui=5.0, est=4.2109610191842055, details={'actual_k': 40, 'was_impossible': False}),\n",
       " Prediction(uid='801', iid='294', r_ui=5.0, est=3.262942298184899, details={'actual_k': 40, 'was_impossible': False}),\n",
       " Prediction(uid='943', iid='215', r_ui=5.0, est=3.933864340600771, details={'actual_k': 40, 'was_impossible': False}),\n",
       " Prediction(uid='450', iid='526', r_ui=4.0, est=4.057568578855926, details={'actual_k': 40, 'was_impossible': False}),\n",
       " Prediction(uid='932', iid='235', r_ui=2.0, est=2.943788845587278, details={'actual_k': 40, 'was_impossible': False}),\n",
       " Prediction(uid='508', iid='173', r_ui=4.0, est=4.017865714613095, details={'actual_k': 40, 'was_impossible': False}),\n",
       " Prediction(uid='280', iid='316', r_ui=5.0, est=4.026451527887003, details={'actual_k': 40, 'was_impossible': False}),\n",
       " Prediction(uid='625', iid='176', r_ui=4.0, est=3.918659983995033, details={'actual_k': 40, 'was_impossible': False}),\n",
       " Prediction(uid='561', iid='86', r_ui=4.0, est=4.08643342132266, details={'actual_k': 40, 'was_impossible': False}),\n",
       " Prediction(uid='690', iid='239', r_ui=2.0, est=3.4456728301459525, details={'actual_k': 40, 'was_impossible': False}),\n",
       " Prediction(uid='330', iid='133', r_ui=5.0, est=4.3093405452163225, details={'actual_k': 40, 'was_impossible': False}),\n",
       " Prediction(uid='527', iid='207', r_ui=4.0, est=3.943230612213622, details={'actual_k': 40, 'was_impossible': False}),\n",
       " Prediction(uid='363', iid='307', r_ui=5.0, est=3.3714011080834676, details={'actual_k': 40, 'was_impossible': False}),\n",
       " Prediction(uid='655', iid='333', r_ui=2.0, est=3.365543758718523, details={'actual_k': 40, 'was_impossible': False}),\n",
       " Prediction(uid='222', iid='537', r_ui=4.0, est=3.5925038330319525, details={'actual_k': 24, 'was_impossible': False}),\n",
       " Prediction(uid='618', iid='962', r_ui=1.0, est=3.413074419016724, details={'actual_k': 18, 'was_impossible': False}),\n",
       " Prediction(uid='268', iid='665', r_ui=2.0, est=2.8224947131167126, details={'actual_k': 40, 'was_impossible': False}),\n",
       " Prediction(uid='738', iid='214', r_ui=4.0, est=3.4430083863241383, details={'actual_k': 40, 'was_impossible': False}),\n",
       " Prediction(uid='389', iid='95', r_ui=3.0, est=3.7987540976602863, details={'actual_k': 40, 'was_impossible': False}),\n",
       " Prediction(uid='486', iid='1137', r_ui=5.0, est=3.8646800424732453, details={'actual_k': 20, 'was_impossible': False}),\n",
       " Prediction(uid='552', iid='117', r_ui=3.0, est=3.7452135790567573, details={'actual_k': 40, 'was_impossible': False}),\n",
       " Prediction(uid='727', iid='252', r_ui=2.0, est=2.972206001802321, details={'actual_k': 40, 'was_impossible': False}),\n",
       " Prediction(uid='18', iid='478', r_ui=5.0, est=4.1805938775525995, details={'actual_k': 40, 'was_impossible': False}),\n",
       " Prediction(uid='234', iid='550', r_ui=2.0, est=2.724181377797294, details={'actual_k': 40, 'was_impossible': False}),\n",
       " Prediction(uid='293', iid='770', r_ui=3.0, est=3.4894048616525537, details={'actual_k': 40, 'was_impossible': False}),\n",
       " Prediction(uid='334', iid='425', r_ui=4.0, est=4.043817883465381, details={'actual_k': 40, 'was_impossible': False}),\n",
       " Prediction(uid='655', iid='657', r_ui=3.0, est=4.114059464186849, details={'actual_k': 40, 'was_impossible': False}),\n",
       " Prediction(uid='416', iid='302', r_ui=5.0, est=4.236792420491886, details={'actual_k': 40, 'was_impossible': False}),\n",
       " Prediction(uid='215', iid='222', r_ui=4.0, est=3.794837053058821, details={'actual_k': 40, 'was_impossible': False}),\n",
       " Prediction(uid='763', iid='190', r_ui=4.0, est=4.342627959859171, details={'actual_k': 40, 'was_impossible': False}),\n",
       " Prediction(uid='401', iid='225', r_ui=1.0, est=2.731493390722374, details={'actual_k': 40, 'was_impossible': False}),\n",
       " Prediction(uid='587', iid='1624', r_ui=2.0, est=3.5342933333333333, details={'was_impossible': True, 'reason': 'User and/or item is unknown.'}),\n",
       " Prediction(uid='790', iid='771', r_ui=4.0, est=2.5375781993685744, details={'actual_k': 30, 'was_impossible': False}),\n",
       " Prediction(uid='527', iid='631', r_ui=4.0, est=3.7307603001201572, details={'actual_k': 40, 'was_impossible': False}),\n",
       " Prediction(uid='701', iid='237', r_ui=5.0, est=3.617829816745644, details={'actual_k': 40, 'was_impossible': False}),\n",
       " Prediction(uid='880', iid='1165', r_ui=2.0, est=1.9584444409938329, details={'actual_k': 10, 'was_impossible': False}),\n",
       " Prediction(uid='102', iid='233', r_ui=3.0, est=2.856350976683093, details={'actual_k': 40, 'was_impossible': False}),\n",
       " Prediction(uid='741', iid='173', r_ui=2.0, est=4.072450961846024, details={'actual_k': 40, 'was_impossible': False}),\n",
       " Prediction(uid='702', iid='1127', r_ui=2.0, est=2.2719999999999994, details={'actual_k': 5, 'was_impossible': False}),\n",
       " Prediction(uid='918', iid='709', r_ui=4.0, est=4.1561908461564805, details={'actual_k': 40, 'was_impossible': False}),\n",
       " Prediction(uid='503', iid='174', r_ui=5.0, est=4.645916419033155, details={'actual_k': 40, 'was_impossible': False}),\n",
       " Prediction(uid='207', iid='177', r_ui=3.0, est=3.830077827231622, details={'actual_k': 40, 'was_impossible': False}),\n",
       " Prediction(uid='54', iid='127', r_ui=4.0, est=4.275989891568048, details={'actual_k': 40, 'was_impossible': False}),\n",
       " Prediction(uid='505', iid='423', r_ui=4.0, est=4.0624571173031665, details={'actual_k': 40, 'was_impossible': False}),\n",
       " Prediction(uid='458', iid='152', r_ui=5.0, est=3.609457546073982, details={'actual_k': 40, 'was_impossible': False}),\n",
       " Prediction(uid='200', iid='174', r_ui=5.0, est=4.539801520264364, details={'actual_k': 40, 'was_impossible': False}),\n",
       " Prediction(uid='929', iid='31', r_ui=2.0, est=3.6901575800462734, details={'actual_k': 40, 'was_impossible': False}),\n",
       " Prediction(uid='662', iid='10', r_ui=4.0, est=3.9149191559979797, details={'actual_k': 40, 'was_impossible': False}),\n",
       " Prediction(uid='136', iid='116', r_ui=5.0, est=3.9527672946476295, details={'actual_k': 40, 'was_impossible': False}),\n",
       " Prediction(uid='194', iid='67', r_ui=1.0, est=2.790616875191388, details={'actual_k': 40, 'was_impossible': False}),\n",
       " Prediction(uid='907', iid='173', r_ui=4.0, est=4.248719328797621, details={'actual_k': 40, 'was_impossible': False}),\n",
       " Prediction(uid='194', iid='188', r_ui=4.0, est=3.684677614575027, details={'actual_k': 40, 'was_impossible': False}),\n",
       " Prediction(uid='417', iid='56', r_ui=5.0, est=4.1091561943907395, details={'actual_k': 40, 'was_impossible': False}),\n",
       " Prediction(uid='178', iid='25', r_ui=3.0, est=3.531647951621496, details={'actual_k': 40, 'was_impossible': False}),\n",
       " Prediction(uid='308', iid='499', r_ui=3.0, est=4.028264070371099, details={'actual_k': 40, 'was_impossible': False}),\n",
       " Prediction(uid='28', iid='282', r_ui=4.0, est=3.7051668547856287, details={'actual_k': 40, 'was_impossible': False}),\n",
       " Prediction(uid='773', iid='559', r_ui=2.0, est=2.9975338679383707, details={'actual_k': 40, 'was_impossible': False}),\n",
       " Prediction(uid='805', iid='546', r_ui=2.0, est=2.915507519921056, details={'actual_k': 40, 'was_impossible': False}),\n",
       " Prediction(uid='883', iid='56', r_ui=5.0, est=4.405130538188632, details={'actual_k': 40, 'was_impossible': False}),\n",
       " Prediction(uid='622', iid='496', r_ui=4.0, est=4.3565119769725, details={'actual_k': 40, 'was_impossible': False}),\n",
       " Prediction(uid='171', iid='302', r_ui=4.0, est=4.210413203933185, details={'actual_k': 40, 'was_impossible': False}),\n",
       " Prediction(uid='207', iid='205', r_ui=4.0, est=3.897496272084605, details={'actual_k': 40, 'was_impossible': False}),\n",
       " Prediction(uid='804', iid='68', r_ui=3.0, est=3.593677010566392, details={'actual_k': 40, 'was_impossible': False}),\n",
       " Prediction(uid='151', iid='709', r_ui=5.0, est=4.140449517375767, details={'actual_k': 40, 'was_impossible': False}),\n",
       " Prediction(uid='177', iid='186', r_ui=4.0, est=3.829586572265827, details={'actual_k': 40, 'was_impossible': False}),\n",
       " Prediction(uid='835', iid='127', r_ui=4.0, est=4.4040773888987985, details={'actual_k': 40, 'was_impossible': False}),\n",
       " Prediction(uid='85', iid='281', r_ui=3.0, est=2.909334813595135, details={'actual_k': 40, 'was_impossible': False}),\n",
       " Prediction(uid='684', iid='1283', r_ui=3.0, est=2.9693726262090623, details={'actual_k': 8, 'was_impossible': False}),\n",
       " Prediction(uid='711', iid='250', r_ui=2.0, est=3.58469294469451, details={'actual_k': 40, 'was_impossible': False}),\n",
       " Prediction(uid='661', iid='132', r_ui=5.0, est=4.473574688520996, details={'actual_k': 40, 'was_impossible': False}),\n",
       " Prediction(uid='119', iid='168', r_ui=5.0, est=4.048384410192589, details={'actual_k': 40, 'was_impossible': False}),\n",
       " Prediction(uid='454', iid='507', r_ui=3.0, est=3.8186256435593697, details={'actual_k': 40, 'was_impossible': False}),\n",
       " Prediction(uid='454', iid='659', r_ui=2.0, est=3.8615553035480685, details={'actual_k': 40, 'was_impossible': False}),\n",
       " Prediction(uid='592', iid='59', r_ui=4.0, est=4.286196188116672, details={'actual_k': 40, 'was_impossible': False}),\n",
       " Prediction(uid='399', iid='975', r_ui=2.0, est=3.263205180767259, details={'actual_k': 32, 'was_impossible': False}),\n",
       " Prediction(uid='567', iid='127', r_ui=5.0, est=4.646393774233721, details={'actual_k': 40, 'was_impossible': False}),\n",
       " Prediction(uid='299', iid='747', r_ui=4.0, est=3.444812609504927, details={'actual_k': 40, 'was_impossible': False}),\n",
       " Prediction(uid='606', iid='468', r_ui=4.0, est=3.463165309129959, details={'actual_k': 40, 'was_impossible': False}),\n",
       " Prediction(uid='718', iid='274', r_ui=3.0, est=3.929985148855964, details={'actual_k': 40, 'was_impossible': False}),\n",
       " Prediction(uid='773', iid='509', r_ui=4.0, est=3.854087789916665, details={'actual_k': 40, 'was_impossible': False}),\n",
       " Prediction(uid='409', iid='709', r_ui=4.0, est=4.137050486447157, details={'actual_k': 40, 'was_impossible': False}),\n",
       " Prediction(uid='76', iid='517', r_ui=5.0, est=4.087587359391666, details={'actual_k': 40, 'was_impossible': False}),\n",
       " Prediction(uid='194', iid='202', r_ui=3.0, est=3.4149383127182897, details={'actual_k': 40, 'was_impossible': False}),\n",
       " Prediction(uid='72', iid='553', r_ui=5.0, est=3.340081615880264, details={'actual_k': 40, 'was_impossible': False}),\n",
       " Prediction(uid='417', iid='343', r_ui=2.0, est=3.1731873167234066, details={'actual_k': 40, 'was_impossible': False}),\n",
       " Prediction(uid='318', iid='211', r_ui=5.0, est=4.277896663528899, details={'actual_k': 40, 'was_impossible': False}),\n",
       " Prediction(uid='234', iid='79', r_ui=3.0, est=3.696670754633595, details={'actual_k': 40, 'was_impossible': False}),\n",
       " Prediction(uid='37', iid='265', r_ui=4.0, est=4.006568068099839, details={'actual_k': 40, 'was_impossible': False}),\n",
       " Prediction(uid='380', iid='7', r_ui=3.0, est=3.6684054778202326, details={'actual_k': 40, 'was_impossible': False}),\n",
       " Prediction(uid='589', iid='689', r_ui=4.0, est=3.3155528783802737, details={'actual_k': 40, 'was_impossible': False}),\n",
       " Prediction(uid='435', iid='1185', r_ui=1.0, est=2.131771094849695, details={'actual_k': 13, 'was_impossible': False}),\n",
       " Prediction(uid='843', iid='79', r_ui=2.0, est=3.736786080397268, details={'actual_k': 40, 'was_impossible': False}),\n",
       " Prediction(uid='315', iid='654', r_ui=5.0, est=4.529861563933595, details={'actual_k': 40, 'was_impossible': False}),\n",
       " Prediction(uid='194', iid='367', r_ui=3.0, est=3.440766494485473, details={'actual_k': 40, 'was_impossible': False}),\n",
       " Prediction(uid='776', iid='145', r_ui=2.0, est=2.64467922098309, details={'actual_k': 40, 'was_impossible': False}),\n",
       " Prediction(uid='892', iid='1219', r_ui=2.0, est=2.6857698076999403, details={'actual_k': 11, 'was_impossible': False}),\n",
       " Prediction(uid='495', iid='550', r_ui=3.0, est=3.5085332665862436, details={'actual_k': 40, 'was_impossible': False}),\n",
       " Prediction(uid='826', iid='95', r_ui=5.0, est=4.151105136695198, details={'actual_k': 40, 'was_impossible': False}),\n",
       " Prediction(uid='459', iid='323', r_ui=3.0, est=3.240118939729633, details={'actual_k': 40, 'was_impossible': False}),\n",
       " Prediction(uid='138', iid='487', r_ui=3.0, est=4.217159022295052, details={'actual_k': 40, 'was_impossible': False}),\n",
       " Prediction(uid='682', iid='196', r_ui=5.0, est=3.8534964825141826, details={'actual_k': 40, 'was_impossible': False}),\n",
       " Prediction(uid='279', iid='529', r_ui=3.0, est=3.9067708447937113, details={'actual_k': 40, 'was_impossible': False}),\n",
       " Prediction(uid='151', iid='321', r_ui=4.0, est=3.3336881141637287, details={'actual_k': 40, 'was_impossible': False}),\n",
       " Prediction(uid='524', iid='23', r_ui=5.0, est=4.104177262984061, details={'actual_k': 40, 'was_impossible': False}),\n",
       " Prediction(uid='308', iid='802', r_ui=3.0, est=2.8032053372143313, details={'actual_k': 29, 'was_impossible': False}),\n",
       " Prediction(uid='330', iid='660', r_ui=5.0, est=4.11246464848887, details={'actual_k': 40, 'was_impossible': False}),\n",
       " Prediction(uid='640', iid='790', r_ui=4.0, est=3.090851983595689, details={'actual_k': 40, 'was_impossible': False}),\n",
       " Prediction(uid='224', iid='727', r_ui=4.0, est=3.478164905339965, details={'actual_k': 40, 'was_impossible': False}),\n",
       " Prediction(uid='751', iid='161', r_ui=2.0, est=3.6388723795063136, details={'actual_k': 40, 'was_impossible': False}),\n",
       " Prediction(uid='495', iid='157', r_ui=5.0, est=4.097650618723501, details={'actual_k': 40, 'was_impossible': False}),\n",
       " Prediction(uid='387', iid='672', r_ui=2.0, est=2.6224040549056147, details={'actual_k': 40, 'was_impossible': False}),\n",
       " Prediction(uid='158', iid='149', r_ui=3.0, est=3.3826453909764136, details={'actual_k': 16, 'was_impossible': False}),\n",
       " Prediction(uid='128', iid='482', r_ui=4.0, est=4.191145902607874, details={'actual_k': 40, 'was_impossible': False}),\n",
       " Prediction(uid='763', iid='60', r_ui=5.0, est=4.231964444270936, details={'actual_k': 40, 'was_impossible': False}),\n",
       " Prediction(uid='85', iid='1149', r_ui=3.0, est=3.803913838002634, details={'actual_k': 20, 'was_impossible': False}),\n",
       " Prediction(uid='393', iid='630', r_ui=4.0, est=3.2706975886824994, details={'actual_k': 22, 'was_impossible': False}),\n",
       " Prediction(uid='354', iid='494', r_ui=4.0, est=3.893331177899683, details={'actual_k': 40, 'was_impossible': False}),\n",
       " Prediction(uid='179', iid='1234', r_ui=1.0, est=2.1905488231666177, details={'actual_k': 5, 'was_impossible': False}),\n",
       " Prediction(uid='255', iid='294', r_ui=2.0, est=3.1353244999975196, details={'actual_k': 40, 'was_impossible': False}),\n",
       " Prediction(uid='380', iid='132', r_ui=4.0, est=3.720459133486321, details={'actual_k': 40, 'was_impossible': False}),\n",
       " Prediction(uid='151', iid='162', r_ui=5.0, est=3.8562647934147827, details={'actual_k': 40, 'was_impossible': False}),\n",
       " Prediction(uid='851', iid='79', r_ui=4.0, est=4.287824635687103, details={'actual_k': 40, 'was_impossible': False}),\n",
       " Prediction(uid='85', iid='212', r_ui=2.0, est=3.616170042913455, details={'actual_k': 40, 'was_impossible': False}),\n",
       " Prediction(uid='128', iid='966', r_ui=4.0, est=4.373115402797631, details={'actual_k': 15, 'was_impossible': False}),\n",
       " Prediction(uid='292', iid='331', r_ui=5.0, est=3.3310251245191456, details={'actual_k': 40, 'was_impossible': False}),\n",
       " Prediction(uid='766', iid='435', r_ui=3.0, est=3.740599934568983, details={'actual_k': 40, 'was_impossible': False}),\n",
       " Prediction(uid='269', iid='72', r_ui=2.0, est=2.9186030591477574, details={'actual_k': 40, 'was_impossible': False}),\n",
       " Prediction(uid='663', iid='509', r_ui=4.0, est=3.9428172628912983, details={'actual_k': 40, 'was_impossible': False}),\n",
       " Prediction(uid='880', iid='623', r_ui=4.0, est=2.8618897855530983, details={'actual_k': 29, 'was_impossible': False}),\n",
       " Prediction(uid='869', iid='50', r_ui=4.0, est=4.376205299521672, details={'actual_k': 40, 'was_impossible': False}),\n",
       " Prediction(uid='922', iid='271', r_ui=3.0, est=3.2929642915043043, details={'actual_k': 40, 'was_impossible': False}),\n",
       " Prediction(uid='230', iid='168', r_ui=4.0, est=4.142040598599102, details={'actual_k': 40, 'was_impossible': False}),\n",
       " Prediction(uid='253', iid='483', r_ui=5.0, est=4.611936672718775, details={'actual_k': 40, 'was_impossible': False}),\n",
       " Prediction(uid='592', iid='845', r_ui=4.0, est=3.6092434437258363, details={'actual_k': 40, 'was_impossible': False}),\n",
       " Prediction(uid='639', iid='528', r_ui=4.0, est=4.130418595611182, details={'actual_k': 40, 'was_impossible': False}),\n",
       " Prediction(uid='918', iid='737', r_ui=3.0, est=2.9671831102616877, details={'actual_k': 40, 'was_impossible': False}),\n",
       " Prediction(uid='361', iid='148', r_ui=1.0, est=3.084296998190273, details={'actual_k': 40, 'was_impossible': False}),\n",
       " Prediction(uid='817', iid='748', r_ui=4.0, est=2.9833827565159274, details={'actual_k': 40, 'was_impossible': False}),\n",
       " Prediction(uid='514', iid='313', r_ui=5.0, est=4.246858725375553, details={'actual_k': 40, 'was_impossible': False}),\n",
       " Prediction(uid='387', iid='1014', r_ui=3.0, est=3.1619463018579115, details={'actual_k': 40, 'was_impossible': False}),\n",
       " Prediction(uid='181', iid='328', r_ui=3.0, est=3.3419984127237963, details={'actual_k': 40, 'was_impossible': False}),\n",
       " Prediction(uid='561', iid='732', r_ui=3.0, est=3.039005699175911, details={'actual_k': 40, 'was_impossible': False}),\n",
       " Prediction(uid='640', iid='578', r_ui=3.0, est=3.4356667237864658, details={'actual_k': 40, 'was_impossible': False}),\n",
       " Prediction(uid='222', iid='636', r_ui=4.0, est=3.3596037748235843, details={'actual_k': 40, 'was_impossible': False}),\n",
       " Prediction(uid='339', iid='186', r_ui=4.0, est=3.7911282532325594, details={'actual_k': 40, 'was_impossible': False}),\n",
       " Prediction(uid='211', iid='526', r_ui=4.0, est=3.8742873289333737, details={'actual_k': 40, 'was_impossible': False}),\n",
       " Prediction(uid='823', iid='474', r_ui=5.0, est=4.405282653646398, details={'actual_k': 40, 'was_impossible': False}),\n",
       " Prediction(uid='774', iid='654', r_ui=2.0, est=3.9240861057601646, details={'actual_k': 40, 'was_impossible': False}),\n",
       " Prediction(uid='275', iid='636', r_ui=3.0, est=3.091810332206876, details={'actual_k': 40, 'was_impossible': False}),\n",
       " Prediction(uid='221', iid='633', r_ui=3.0, est=4.061788658799137, details={'actual_k': 40, 'was_impossible': False}),\n",
       " Prediction(uid='587', iid='678', r_ui=2.0, est=3.1906579746827943, details={'actual_k': 40, 'was_impossible': False}),\n",
       " Prediction(uid='232', iid='276', r_ui=5.0, est=3.541458894160383, details={'actual_k': 40, 'was_impossible': False}),\n",
       " Prediction(uid='807', iid='121', r_ui=4.0, est=3.9762481940634977, details={'actual_k': 40, 'was_impossible': False}),\n",
       " Prediction(uid='279', iid='174', r_ui=4.0, est=4.0865343177361035, details={'actual_k': 40, 'was_impossible': False}),\n",
       " Prediction(uid='276', iid='939', r_ui=3.0, est=3.622959535884239, details={'actual_k': 39, 'was_impossible': False}),\n",
       " Prediction(uid='89', iid='100', r_ui=5.0, est=4.226221395738934, details={'actual_k': 40, 'was_impossible': False}),\n",
       " Prediction(uid='640', iid='11', r_ui=4.0, est=4.247230040866826, details={'actual_k': 40, 'was_impossible': False}),\n",
       " Prediction(uid='757', iid='433', r_ui=4.0, est=3.6462846081941347, details={'actual_k': 40, 'was_impossible': False}),\n",
       " Prediction(uid='398', iid='735', r_ui=4.0, est=4.0517635614071486, details={'actual_k': 40, 'was_impossible': False}),\n",
       " Prediction(uid='899', iid='79', r_ui=5.0, est=4.026154933104573, details={'actual_k': 40, 'was_impossible': False}),\n",
       " Prediction(uid='451', iid='878', r_ui=1.0, est=2.441919939546332, details={'actual_k': 22, 'was_impossible': False}),\n",
       " Prediction(uid='497', iid='405', r_ui=3.0, est=3.259695983658827, details={'actual_k': 40, 'was_impossible': False}),\n",
       " Prediction(uid='361', iid='150', r_ui=2.0, est=3.893799228017608, details={'actual_k': 40, 'was_impossible': False}),\n",
       " Prediction(uid='347', iid='123', r_ui=3.0, est=3.429245017120286, details={'actual_k': 40, 'was_impossible': False}),\n",
       " Prediction(uid='95', iid='286', r_ui=5.0, est=3.874188720728299, details={'actual_k': 40, 'was_impossible': False}),\n",
       " Prediction(uid='561', iid='651', r_ui=3.0, est=3.8056470211920566, details={'actual_k': 40, 'was_impossible': False}),\n",
       " Prediction(uid='450', iid='110', r_ui=4.0, est=2.394184809400161, details={'actual_k': 23, 'was_impossible': False}),\n",
       " Prediction(uid='463', iid='304', r_ui=3.0, est=3.5215006967013114, details={'actual_k': 40, 'was_impossible': False}),\n",
       " Prediction(uid='389', iid='111', r_ui=3.0, est=3.4679477409500086, details={'actual_k': 40, 'was_impossible': False}),\n",
       " Prediction(uid='207', iid='125', r_ui=4.0, est=3.464552415695188, details={'actual_k': 40, 'was_impossible': False}),\n",
       " Prediction(uid='805', iid='175', r_ui=5.0, est=3.928237918751399, details={'actual_k': 40, 'was_impossible': False}),\n",
       " Prediction(uid='291', iid='772', r_ui=4.0, est=2.8081204184548647, details={'actual_k': 31, 'was_impossible': False}),\n",
       " Prediction(uid='932', iid='967', r_ui=4.0, est=2.9817239665031634, details={'actual_k': 9, 'was_impossible': False}),\n",
       " Prediction(uid='436', iid='83', r_ui=5.0, est=4.071006888309434, details={'actual_k': 40, 'was_impossible': False}),\n",
       " Prediction(uid='545', iid='29', r_ui=3.0, est=2.7182197019275223, details={'actual_k': 40, 'was_impossible': False}),\n",
       " Prediction(uid='200', iid='515', r_ui=5.0, est=4.387188452814883, details={'actual_k': 40, 'was_impossible': False}),\n",
       " Prediction(uid='23', iid='655', r_ui=3.0, est=3.811763899473082, details={'actual_k': 40, 'was_impossible': False}),\n",
       " Prediction(uid='658', iid='458', r_ui=3.0, est=3.1621707644108428, details={'actual_k': 40, 'was_impossible': False}),\n",
       " Prediction(uid='223', iid='69', r_ui=5.0, est=3.9463063514065357, details={'actual_k': 40, 'was_impossible': False}),\n",
       " Prediction(uid='405', iid='445', r_ui=4.0, est=3.5343910536350465, details={'actual_k': 16, 'was_impossible': False}),\n",
       " Prediction(uid='537', iid='91', r_ui=2.0, est=3.4883756001618, details={'actual_k': 40, 'was_impossible': False}),\n",
       " Prediction(uid='694', iid='378', r_ui=3.0, est=4.113498125987106, details={'actual_k': 40, 'was_impossible': False}),\n",
       " Prediction(uid='437', iid='770', r_ui=3.0, est=3.5151247840265807, details={'actual_k': 40, 'was_impossible': False}),\n",
       " Prediction(uid='880', iid='820', r_ui=3.0, est=2.6130276558449697, details={'actual_k': 40, 'was_impossible': False}),\n",
       " Prediction(uid='646', iid='304', r_ui=3.0, est=3.350269279252147, details={'actual_k': 40, 'was_impossible': False}),\n",
       " Prediction(uid='263', iid='97', r_ui=4.0, est=4.356143341884724, details={'actual_k': 40, 'was_impossible': False}),\n",
       " Prediction(uid='497', iid='741', r_ui=4.0, est=3.530920391009925, details={'actual_k': 40, 'was_impossible': False}),\n",
       " Prediction(uid='500', iid='202', r_ui=4.0, est=3.623950770506515, details={'actual_k': 40, 'was_impossible': False}),\n",
       " Prediction(uid='932', iid='47', r_ui=4.0, est=3.774054917003856, details={'actual_k': 40, 'was_impossible': False}),\n",
       " Prediction(uid='532', iid='79', r_ui=5.0, est=4.517513426740783, details={'actual_k': 40, 'was_impossible': False}),\n",
       " Prediction(uid='659', iid='179', r_ui=1.0, est=3.894187407397878, details={'actual_k': 40, 'was_impossible': False}),\n",
       " Prediction(uid='14', iid='922', r_ui=4.0, est=3.9948906711780117, details={'actual_k': 27, 'was_impossible': False}),\n",
       " Prediction(uid='896', iid='53', r_ui=1.0, est=2.8136279847917725, details={'actual_k': 40, 'was_impossible': False}),\n",
       " Prediction(uid='303', iid='44', r_ui=4.0, est=3.5019821735134276, details={'actual_k': 40, 'was_impossible': False}),\n",
       " Prediction(uid='890', iid='172', r_ui=5.0, est=4.56063326829785, details={'actual_k': 40, 'was_impossible': False}),\n",
       " Prediction(uid='94', iid='443', r_ui=4.0, est=3.9830277198636246, details={'actual_k': 40, 'was_impossible': False}),\n",
       " Prediction(uid='925', iid='56', r_ui=3.0, est=3.961756553083402, details={'actual_k': 40, 'was_impossible': False}),\n",
       " Prediction(uid='825', iid='126', r_ui=3.0, est=3.951995040961195, details={'actual_k': 40, 'was_impossible': False}),\n",
       " Prediction(uid='486', iid='93', r_ui=4.0, est=3.849788252206861, details={'actual_k': 40, 'was_impossible': False}),\n",
       " Prediction(uid='592', iid='423', r_ui=5.0, est=4.448542626304603, details={'actual_k': 40, 'was_impossible': False}),\n",
       " Prediction(uid='62', iid='204', r_ui=3.0, est=3.55728793729541, details={'actual_k': 40, 'was_impossible': False}),\n",
       " Prediction(uid='92', iid='199', r_ui=3.0, est=4.325355412487425, details={'actual_k': 40, 'was_impossible': False}),\n",
       " Prediction(uid='145', iid='431', r_ui=5.0, est=3.8015637570768575, details={'actual_k': 40, 'was_impossible': False}),\n",
       " Prediction(uid='562', iid='385', r_ui=2.0, est=3.692412998213389, details={'actual_k': 40, 'was_impossible': False}),\n",
       " Prediction(uid='1', iid='64', r_ui=5.0, est=4.332168699136156, details={'actual_k': 40, 'was_impossible': False}),\n",
       " Prediction(uid='805', iid='65', r_ui=3.0, est=3.525595465045595, details={'actual_k': 40, 'was_impossible': False}),\n",
       " Prediction(uid='29', iid='689', r_ui=2.0, est=3.0982487329386297, details={'actual_k': 40, 'was_impossible': False}),\n",
       " Prediction(uid='590', iid='754', r_ui=3.0, est=3.396803177985018, details={'actual_k': 34, 'was_impossible': False}),\n",
       " Prediction(uid='639', iid='604', r_ui=4.0, est=3.9702536570095748, details={'actual_k': 40, 'was_impossible': False}),\n",
       " Prediction(uid='848', iid='419', r_ui=5.0, est=4.064552159938291, details={'actual_k': 40, 'was_impossible': False}),\n",
       " Prediction(uid='92', iid='401', r_ui=3.0, est=2.7694424936571655, details={'actual_k': 40, 'was_impossible': False}),\n",
       " Prediction(uid='437', iid='237', r_ui=4.0, est=3.5542876043077625, details={'actual_k': 40, 'was_impossible': False}),\n",
       " Prediction(uid='405', iid='172', r_ui=5.0, est=4.171441599984161, details={'actual_k': 40, 'was_impossible': False}),\n",
       " Prediction(uid='803', iid='305', r_ui=5.0, est=3.644410104820836, details={'actual_k': 40, 'was_impossible': False}),\n",
       " Prediction(uid='605', iid='276', r_ui=4.0, est=3.9519535038194444, details={'actual_k': 40, 'was_impossible': False}),\n",
       " Prediction(uid='788', iid='112', r_ui=3.0, est=2.589321835382187, details={'actual_k': 14, 'was_impossible': False}),\n",
       " Prediction(uid='455', iid='9', r_ui=4.0, est=4.266083373635046, details={'actual_k': 40, 'was_impossible': False}),\n",
       " Prediction(uid='839', iid='292', r_ui=3.0, est=3.7817750365243463, details={'actual_k': 40, 'was_impossible': False}),\n",
       " Prediction(uid='49', iid='270', r_ui=2.0, est=3.4664096282832726, details={'actual_k': 40, 'was_impossible': False}),\n",
       " Prediction(uid='354', iid='209', r_ui=3.0, est=4.1284120706217395, details={'actual_k': 40, 'was_impossible': False}),\n",
       " Prediction(uid='532', iid='879', r_ui=3.0, est=3.439217385862773, details={'actual_k': 40, 'was_impossible': False}),\n",
       " Prediction(uid='752', iid='288', r_ui=5.0, est=3.603185995350506, details={'actual_k': 40, 'was_impossible': False}),\n",
       " Prediction(uid='23', iid='32', r_ui=3.0, est=3.7622084528822066, details={'actual_k': 40, 'was_impossible': False}),\n",
       " Prediction(uid='342', iid='1160', r_ui=3.0, est=3.5230236570495572, details={'actual_k': 23, 'was_impossible': False}),\n",
       " Prediction(uid='46', iid='127', r_ui=5.0, est=4.336886283392179, details={'actual_k': 40, 'was_impossible': False}),\n",
       " Prediction(uid='889', iid='125', r_ui=4.0, est=3.3947303641021827, details={'actual_k': 40, 'was_impossible': False}),\n",
       " Prediction(uid='889', iid='524', r_ui=4.0, est=3.9388988337418365, details={'actual_k': 33, 'was_impossible': False}),\n",
       " Prediction(uid='276', iid='1208', r_ui=3.0, est=2.9108841363113687, details={'actual_k': 14, 'was_impossible': False}),\n",
       " Prediction(uid='99', iid='168', r_ui=5.0, est=4.189271659720129, details={'actual_k': 40, 'was_impossible': False}),\n",
       " Prediction(uid='409', iid='1097', r_ui=2.0, est=3.471166308088044, details={'actual_k': 15, 'was_impossible': False}),\n",
       " Prediction(uid='881', iid='136', r_ui=4.0, est=4.1489451821617855, details={'actual_k': 40, 'was_impossible': False}),\n",
       " Prediction(uid='745', iid='215', r_ui=3.0, est=3.425753018469722, details={'actual_k': 40, 'was_impossible': False}),\n",
       " Prediction(uid='95', iid='419', r_ui=4.0, est=3.8185092039963826, details={'actual_k': 40, 'was_impossible': False}),\n",
       " Prediction(uid='776', iid='95', r_ui=4.0, est=3.9196996712532983, details={'actual_k': 40, 'was_impossible': False}),\n",
       " Prediction(uid='92', iid='831', r_ui=2.0, est=2.655785477928901, details={'actual_k': 40, 'was_impossible': False}),\n",
       " Prediction(uid='59', iid='102', r_ui=2.0, est=3.075062037109614, details={'actual_k': 38, 'was_impossible': False}),\n",
       " Prediction(uid='353', iid='333', r_ui=4.0, est=3.5104588495546283, details={'actual_k': 40, 'was_impossible': False}),\n",
       " Prediction(uid='806', iid='357', r_ui=3.0, est=4.4491879763065425, details={'actual_k': 40, 'was_impossible': False}),\n",
       " Prediction(uid='745', iid='182', r_ui=2.0, est=3.6719617984650537, details={'actual_k': 40, 'was_impossible': False}),\n",
       " Prediction(uid='347', iid='268', r_ui=4.0, est=3.990779142844648, details={'actual_k': 40, 'was_impossible': False}),\n",
       " Prediction(uid='648', iid='471', r_ui=4.0, est=3.763826742366243, details={'actual_k': 40, 'was_impossible': False}),\n",
       " Prediction(uid='671', iid='17', r_ui=4.0, est=3.2118337212274466, details={'actual_k': 40, 'was_impossible': False}),\n",
       " Prediction(uid='215', iid='182', r_ui=3.0, est=3.63509216246333, details={'actual_k': 40, 'was_impossible': False}),\n",
       " Prediction(uid='665', iid='183', r_ui=4.0, est=4.119457558859422, details={'actual_k': 40, 'was_impossible': False}),\n",
       " Prediction(uid='932', iid='230', r_ui=4.0, est=3.4285116203454113, details={'actual_k': 40, 'was_impossible': False}),\n",
       " Prediction(uid='18', iid='492', r_ui=4.0, est=3.9841011244758873, details={'actual_k': 40, 'was_impossible': False}),\n",
       " Prediction(uid='663', iid='1', r_ui=4.0, est=3.8863753078061034, details={'actual_k': 40, 'was_impossible': False}),\n",
       " Prediction(uid='735', iid='258', r_ui=4.0, est=4.02282826073948, details={'actual_k': 40, 'was_impossible': False}),\n",
       " Prediction(uid='650', iid='281', r_ui=2.0, est=3.146196445917152, details={'actual_k': 40, 'was_impossible': False}),\n",
       " Prediction(uid='506', iid='191', r_ui=4.0, est=4.304846506034095, details={'actual_k': 40, 'was_impossible': False}),\n",
       " Prediction(uid='234', iid='1078', r_ui=2.0, est=2.851804614386128, details={'actual_k': 18, 'was_impossible': False}),\n",
       " Prediction(uid='655', iid='113', r_ui=3.0, est=4.096311304671432, details={'actual_k': 5, 'was_impossible': False}),\n",
       " Prediction(uid='119', iid='986', r_ui=3.0, est=2.5493576598166263, details={'actual_k': 15, 'was_impossible': False}),\n",
       " Prediction(uid='90', iid='654', r_ui=5.0, est=4.492756354497857, details={'actual_k': 40, 'was_impossible': False}),\n",
       " Prediction(uid='214', iid='93', r_ui=4.0, est=3.8097551012644653, details={'actual_k': 40, 'was_impossible': False}),\n",
       " Prediction(uid='451', iid='678', r_ui=5.0, est=3.2323905017276715, details={'actual_k': 40, 'was_impossible': False}),\n",
       " Prediction(uid='291', iid='428', r_ui=5.0, est=3.852531394607472, details={'actual_k': 40, 'was_impossible': False}),\n",
       " Prediction(uid='295', iid='496', r_ui=5.0, est=4.520649917452472, details={'actual_k': 40, 'was_impossible': False}),\n",
       " Prediction(uid='910', iid='1025', r_ui=2.0, est=2.8153878590634975, details={'actual_k': 29, 'was_impossible': False}),\n",
       " Prediction(uid='907', iid='462', r_ui=4.0, est=3.959373354400928, details={'actual_k': 40, 'was_impossible': False}),\n",
       " Prediction(uid='248', iid='64', r_ui=5.0, est=4.525576081206536, details={'actual_k': 40, 'was_impossible': False}),\n",
       " Prediction(uid='487', iid='56', r_ui=4.0, est=3.7738896397843607, details={'actual_k': 40, 'was_impossible': False}),\n",
       " Prediction(uid='562', iid='204', r_ui=1.0, est=3.98706671039865, details={'actual_k': 40, 'was_impossible': False}),\n",
       " Prediction(uid='786', iid='318', r_ui=5.0, est=4.626110157233666, details={'actual_k': 40, 'was_impossible': False}),\n",
       " Prediction(uid='108', iid='127', r_ui=4.0, est=4.47064624237212, details={'actual_k': 40, 'was_impossible': False}),\n",
       " Prediction(uid='31', iid='490', r_ui=4.0, est=4.163918143600887, details={'actual_k': 36, 'was_impossible': False}),\n",
       " Prediction(uid='652', iid='96', r_ui=4.0, est=4.0726890992680564, details={'actual_k': 40, 'was_impossible': False}),\n",
       " Prediction(uid='21', iid='993', r_ui=4.0, est=3.3543321516472693, details={'actual_k': 40, 'was_impossible': False}),\n",
       " Prediction(uid='606', iid='418', r_ui=5.0, est=3.7251493776757676, details={'actual_k': 40, 'was_impossible': False}),\n",
       " Prediction(uid='493', iid='833', r_ui=2.0, est=3.0319967005218826, details={'actual_k': 36, 'was_impossible': False}),\n",
       " Prediction(uid='91', iid='318', r_ui=5.0, est=4.59731279953261, details={'actual_k': 40, 'was_impossible': False}),\n",
       " Prediction(uid='852', iid='1', r_ui=4.0, est=3.755473863425551, details={'actual_k': 40, 'was_impossible': False}),\n",
       " Prediction(uid='499', iid='210', r_ui=3.0, est=3.833224411698964, details={'actual_k': 40, 'was_impossible': False}),\n",
       " Prediction(uid='887', iid='28', r_ui=5.0, est=4.093359804964012, details={'actual_k': 40, 'was_impossible': False}),\n",
       " Prediction(uid='550', iid='255', r_ui=3.0, est=3.512799631644739, details={'actual_k': 40, 'was_impossible': False}),\n",
       " Prediction(uid='224', iid='949', r_ui=3.0, est=3.273223609345285, details={'actual_k': 40, 'was_impossible': False}),\n",
       " Prediction(uid='930', iid='265', r_ui=3.0, est=3.7076922252994113, details={'actual_k': 40, 'was_impossible': False}),\n",
       " Prediction(uid='82', iid='304', r_ui=3.0, est=3.460052276065223, details={'actual_k': 40, 'was_impossible': False}),\n",
       " Prediction(uid='374', iid='226', r_ui=5.0, est=3.629661432511492, details={'actual_k': 40, 'was_impossible': False}),\n",
       " Prediction(uid='334', iid='810', r_ui=3.0, est=2.876833239916902, details={'actual_k': 39, 'was_impossible': False}),\n",
       " Prediction(uid='533', iid='186', r_ui=3.0, est=3.8835361000357675, details={'actual_k': 40, 'was_impossible': False}),\n",
       " Prediction(uid='22', iid='231', r_ui=2.0, est=2.734263659496991, details={'actual_k': 40, 'was_impossible': False}),\n",
       " Prediction(uid='771', iid='164', r_ui=2.0, est=3.6417473251178656, details={'actual_k': 40, 'was_impossible': False}),\n",
       " Prediction(uid='144', iid='474', r_ui=4.0, est=4.195228156803041, details={'actual_k': 40, 'was_impossible': False}),\n",
       " Prediction(uid='441', iid='282', r_ui=4.0, est=3.6158843496815423, details={'actual_k': 40, 'was_impossible': False}),\n",
       " Prediction(uid='710', iid='92', r_ui=3.0, est=3.796670770518123, details={'actual_k': 40, 'was_impossible': False}),\n",
       " Prediction(uid='90', iid='462', r_ui=5.0, est=3.9701854915225585, details={'actual_k': 40, 'was_impossible': False}),\n",
       " Prediction(uid='455', iid='245', r_ui=3.0, est=3.3719346299464825, details={'actual_k': 40, 'was_impossible': False}),\n",
       " Prediction(uid='286', iid='1239', r_ui=3.0, est=2.2922521015647783, details={'actual_k': 9, 'was_impossible': False}),\n",
       " Prediction(uid='11', iid='15', r_ui=5.0, est=3.5558455644990774, details={'actual_k': 40, 'was_impossible': False}),\n",
       " Prediction(uid='193', iid='282', r_ui=5.0, est=3.556784932770852, details={'actual_k': 40, 'was_impossible': False}),\n",
       " Prediction(uid='401', iid='322', r_ui=2.0, est=3.0253350796706147, details={'actual_k': 40, 'was_impossible': False}),\n",
       " Prediction(uid='7', iid='211', r_ui=5.0, est=4.37286315508579, details={'actual_k': 40, 'was_impossible': False}),\n",
       " Prediction(uid='834', iid='751', r_ui=3.0, est=3.4447471395527582, details={'actual_k': 40, 'was_impossible': False}),\n",
       " Prediction(uid='705', iid='228', r_ui=3.0, est=3.7704516960661505, details={'actual_k': 40, 'was_impossible': False}),\n",
       " Prediction(uid='296', iid='475', r_ui=4.0, est=4.010747878063094, details={'actual_k': 40, 'was_impossible': False}),\n",
       " Prediction(uid='314', iid='833', r_ui=4.0, est=3.1101540436440804, details={'actual_k': 36, 'was_impossible': False}),\n",
       " Prediction(uid='938', iid='762', r_ui=4.0, est=3.4152628872903095, details={'actual_k': 40, 'was_impossible': False}),\n",
       " Prediction(uid='270', iid='145', r_ui=3.0, est=2.818532590777442, details={'actual_k': 40, 'was_impossible': False}),\n",
       " Prediction(uid='65', iid='100', r_ui=3.0, est=4.035962414675184, details={'actual_k': 40, 'was_impossible': False}),\n",
       " Prediction(uid='159', iid='333', r_ui=5.0, est=3.6238649133956424, details={'actual_k': 40, 'was_impossible': False}),\n",
       " Prediction(uid='254', iid='225', r_ui=3.0, est=2.611322360418327, details={'actual_k': 40, 'was_impossible': False}),\n",
       " Prediction(uid='195', iid='797', r_ui=3.0, est=3.110000201880379, details={'actual_k': 25, 'was_impossible': False}),\n",
       " Prediction(uid='415', iid='243', r_ui=1.0, est=2.5813009653732792, details={'actual_k': 40, 'was_impossible': False}),\n",
       " Prediction(uid='720', iid='315', r_ui=4.0, est=4.246695335509532, details={'actual_k': 40, 'was_impossible': False}),\n",
       " Prediction(uid='823', iid='152', r_ui=5.0, est=3.909560867535408, details={'actual_k': 40, 'was_impossible': False}),\n",
       " Prediction(uid='94', iid='81', r_ui=4.0, est=4.039067559123922, details={'actual_k': 40, 'was_impossible': False}),\n",
       " Prediction(uid='130', iid='771', r_ui=2.0, est=2.686512034441927, details={'actual_k': 30, 'was_impossible': False}),\n",
       " Prediction(uid='114', iid='855', r_ui=3.0, est=3.8326720538701746, details={'actual_k': 40, 'was_impossible': False}),\n",
       " Prediction(uid='334', iid='285', r_ui=4.0, est=4.498471727570391, details={'actual_k': 40, 'was_impossible': False}),\n",
       " Prediction(uid='712', iid='26', r_ui=2.0, est=3.5102234201948086, details={'actual_k': 40, 'was_impossible': False}),\n",
       " Prediction(uid='639', iid='451', r_ui=4.0, est=3.0569285512784186, details={'actual_k': 40, 'was_impossible': False}),\n",
       " Prediction(uid='299', iid='1068', r_ui=3.0, est=3.3264142279425846, details={'actual_k': 10, 'was_impossible': False}),\n",
       " Prediction(uid='836', iid='12', r_ui=5.0, est=4.440306807996054, details={'actual_k': 40, 'was_impossible': False}),\n",
       " Prediction(uid='498', iid='79', r_ui=3.0, est=3.7276681786581127, details={'actual_k': 40, 'was_impossible': False}),\n",
       " Prediction(uid='236', iid='478', r_ui=3.0, est=4.040015239328034, details={'actual_k': 40, 'was_impossible': False}),\n",
       " Prediction(uid='25', iid='23', r_ui=4.0, est=3.856019425139442, details={'actual_k': 40, 'was_impossible': False}),\n",
       " Prediction(uid='403', iid='597', r_ui=2.0, est=3.4534734384827526, details={'actual_k': 40, 'was_impossible': False}),\n",
       " Prediction(uid='886', iid='559', r_ui=2.0, est=3.063577711999154, details={'actual_k': 40, 'was_impossible': False}),\n",
       " Prediction(uid='222', iid='399', r_ui=4.0, est=3.302270792108962, details={'actual_k': 40, 'was_impossible': False}),\n",
       " Prediction(uid='506', iid='749', r_ui=4.0, est=3.1413450417005193, details={'actual_k': 38, 'was_impossible': False}),\n",
       " Prediction(uid='159', iid='1002', r_ui=3.0, est=2.2113239793756243, details={'actual_k': 5, 'was_impossible': False}),\n",
       " Prediction(uid='788', iid='23', r_ui=3.0, est=3.8245196426629073, details={'actual_k': 40, 'was_impossible': False}),\n",
       " Prediction(uid='643', iid='118', r_ui=2.0, est=2.9881703487131035, details={'actual_k': 40, 'was_impossible': False}),\n",
       " Prediction(uid='655', iid='57', r_ui=3.0, est=4.285748241808042, details={'actual_k': 27, 'was_impossible': False}),\n",
       " Prediction(uid='181', iid='334', r_ui=1.0, est=3.113107290406094, details={'actual_k': 40, 'was_impossible': False}),\n",
       " Prediction(uid='846', iid='73', r_ui=4.0, est=3.4404991527481004, details={'actual_k': 40, 'was_impossible': False}),\n",
       " Prediction(uid='833', iid='506', r_ui=2.0, est=3.754649233966824, details={'actual_k': 40, 'was_impossible': False}),\n",
       " Prediction(uid='429', iid='1011', r_ui=4.0, est=3.2384186924698226, details={'actual_k': 40, 'was_impossible': False}),\n",
       " Prediction(uid='172', iid='220', r_ui=4.0, est=2.962288982102309, details={'actual_k': 29, 'was_impossible': False}),\n",
       " Prediction(uid='903', iid='23', r_ui=5.0, est=4.502691457570175, details={'actual_k': 40, 'was_impossible': False}),\n",
       " Prediction(uid='891', iid='111', r_ui=3.0, est=3.8389329412948334, details={'actual_k': 40, 'was_impossible': False}),\n",
       " Prediction(uid='224', iid='148', r_ui=3.0, est=3.282812832799612, details={'actual_k': 40, 'was_impossible': False}),\n",
       " Prediction(uid='258', iid='288', r_ui=1.0, est=3.6731528904443063, details={'actual_k': 40, 'was_impossible': False}),\n",
       " Prediction(uid='160', iid='59', r_ui=4.0, est=4.251510430560288, details={'actual_k': 40, 'was_impossible': False}),\n",
       " Prediction(uid='527', iid='499', r_ui=5.0, est=3.976425839789919, details={'actual_k': 40, 'was_impossible': False}),\n",
       " Prediction(uid='94', iid='168', r_ui=5.0, est=4.205688088624343, details={'actual_k': 40, 'was_impossible': False}),\n",
       " Prediction(uid='125', iid='945', r_ui=5.0, est=4.002682265665656, details={'actual_k': 26, 'was_impossible': False}),\n",
       " Prediction(uid='188', iid='151', r_ui=3.0, est=3.6759807215474223, details={'actual_k': 40, 'was_impossible': False}),\n",
       " Prediction(uid='417', iid='1041', r_ui=3.0, est=3.0926179718059803, details={'actual_k': 40, 'was_impossible': False}),\n",
       " Prediction(uid='823', iid='742', r_ui=4.0, est=3.620436648093699, details={'actual_k': 40, 'was_impossible': False}),\n",
       " Prediction(uid='300', iid='294', r_ui=3.0, est=3.0942028985507246, details={'actual_k': 40, 'was_impossible': False}),\n",
       " Prediction(uid='303', iid='109', r_ui=4.0, est=3.3771099844027876, details={'actual_k': 40, 'was_impossible': False}),\n",
       " Prediction(uid='280', iid='1479', r_ui=3.0, est=2.9600930500629334, details={'actual_k': 5, 'was_impossible': False}),\n",
       " Prediction(uid='496', iid='68', r_ui=4.0, est=3.532351416122665, details={'actual_k': 40, 'was_impossible': False}),\n",
       " Prediction(uid='655', iid='310', r_ui=3.0, est=3.3736618531480635, details={'actual_k': 40, 'was_impossible': False}),\n",
       " Prediction(uid='213', iid='69', r_ui=3.0, est=4.224727233233446, details={'actual_k': 40, 'was_impossible': False}),\n",
       " Prediction(uid='130', iid='681', r_ui=3.0, est=2.390558920784754, details={'actual_k': 19, 'was_impossible': False}),\n",
       " Prediction(uid='262', iid='406', r_ui=3.0, est=2.3574811799108093, details={'actual_k': 35, 'was_impossible': False}),\n",
       " Prediction(uid='378', iid='1046', r_ui=3.0, est=3.2608392673513173, details={'actual_k': 36, 'was_impossible': False}),\n",
       " Prediction(uid='5', iid='396', r_ui=5.0, est=2.702607512658873, details={'actual_k': 39, 'was_impossible': False}),\n",
       " Prediction(uid='181', iid='1202', r_ui=1.0, est=3.785879581096455, details={'actual_k': 6, 'was_impossible': False}),\n",
       " Prediction(uid='864', iid='526', r_ui=4.0, est=4.170610624930562, details={'actual_k': 40, 'was_impossible': False}),\n",
       " Prediction(uid='321', iid='1028', r_ui=2.0, est=3.1366143885763433, details={'actual_k': 40, 'was_impossible': False}),\n",
       " Prediction(uid='343', iid='561', r_ui=3.0, est=3.0620162800236805, details={'actual_k': 40, 'was_impossible': False}),\n",
       " Prediction(uid='117', iid='742', r_ui=4.0, est=3.8009506911062636, details={'actual_k': 40, 'was_impossible': False}),\n",
       " Prediction(uid='6', iid='535', r_ui=2.0, est=3.2619519034472124, details={'actual_k': 40, 'was_impossible': False}),\n",
       " Prediction(uid='727', iid='526', r_ui=4.0, est=3.941841478148989, details={'actual_k': 40, 'was_impossible': False}),\n",
       " Prediction(uid='622', iid='949', r_ui=3.0, est=3.358063813757396, details={'actual_k': 40, 'was_impossible': False}),\n",
       " Prediction(uid='567', iid='494', r_ui=5.0, est=3.953922145860718, details={'actual_k': 40, 'was_impossible': False}),\n",
       " Prediction(uid='7', iid='620', r_ui=4.0, est=3.055552701137458, details={'actual_k': 27, 'was_impossible': False}),\n",
       " Prediction(uid='318', iid='451', r_ui=4.0, est=3.4822008541051517, details={'actual_k': 40, 'was_impossible': False}),\n",
       " Prediction(uid='269', iid='1020', r_ui=4.0, est=3.896747224148861, details={'actual_k': 25, 'was_impossible': False}),\n",
       " Prediction(uid='500', iid='665', r_ui=3.0, est=2.9327862970594216, details={'actual_k': 40, 'was_impossible': False}),\n",
       " Prediction(uid='610', iid='185', r_ui=5.0, est=4.139087809834002, details={'actual_k': 40, 'was_impossible': False}),\n",
       " Prediction(uid='6', iid='474', r_ui=5.0, est=4.604679508940875, details={'actual_k': 40, 'was_impossible': False}),\n",
       " Prediction(uid='275', iid='162', r_ui=3.0, est=3.4210591876963576, details={'actual_k': 40, 'was_impossible': False}),\n",
       " Prediction(uid='919', iid='660', r_ui=4.0, est=3.884958720520573, details={'actual_k': 40, 'was_impossible': False}),\n",
       " Prediction(uid='440', iid='937', r_ui=5.0, est=3.359847195215712, details={'actual_k': 25, 'was_impossible': False}),\n",
       " Prediction(uid='634', iid='458', r_ui=4.0, est=3.3123713915081785, details={'actual_k': 40, 'was_impossible': False}),\n",
       " Prediction(uid='339', iid='144', r_ui=3.0, est=3.9161894543203672, details={'actual_k': 40, 'was_impossible': False}),\n",
       " Prediction(uid='537', iid='490', r_ui=4.0, est=4.019213459588689, details={'actual_k': 36, 'was_impossible': False}),\n",
       " Prediction(uid='618', iid='174', r_ui=5.0, est=4.324253830977304, details={'actual_k': 40, 'was_impossible': False}),\n",
       " Prediction(uid='18', iid='739', r_ui=3.0, est=3.368219762051866, details={'actual_k': 40, 'was_impossible': False}),\n",
       " Prediction(uid='880', iid='168', r_ui=3.0, est=4.235861715591235, details={'actual_k': 40, 'was_impossible': False}),\n",
       " Prediction(uid='435', iid='22', r_ui=4.0, est=3.913400737888963, details={'actual_k': 40, 'was_impossible': False}),\n",
       " Prediction(uid='94', iid='66', r_ui=2.0, est=3.2358197045175348, details={'actual_k': 40, 'was_impossible': False}),\n",
       " Prediction(uid='601', iid='418', r_ui=2.0, est=3.470828774544025, details={'actual_k': 40, 'was_impossible': False}),\n",
       " Prediction(uid='332', iid='54', r_ui=4.0, est=3.507763440526237, details={'actual_k': 40, 'was_impossible': False}),\n",
       " Prediction(uid='805', iid='45', r_ui=4.0, est=4.10889795719941, details={'actual_k': 40, 'was_impossible': False}),\n",
       " Prediction(uid='13', iid='357', r_ui=3.0, est=4.328850279241411, details={'actual_k': 40, 'was_impossible': False}),\n",
       " Prediction(uid='249', iid='480', r_ui=5.0, est=4.657796495065901, details={'actual_k': 40, 'was_impossible': False}),\n",
       " Prediction(uid='148', iid='1012', r_ui=4.0, est=3.6122688022996465, details={'actual_k': 40, 'was_impossible': False}),\n",
       " Prediction(uid='456', iid='739', r_ui=3.0, est=2.9481650880354966, details={'actual_k': 40, 'was_impossible': False}),\n",
       " Prediction(uid='181', iid='304', r_ui=1.0, est=3.2809629618633567, details={'actual_k': 40, 'was_impossible': False}),\n",
       " Prediction(uid='92', iid='660', r_ui=4.0, est=3.8136796206164707, details={'actual_k': 40, 'was_impossible': False}),\n",
       " Prediction(uid='686', iid='327', r_ui=5.0, est=3.552188755976837, details={'actual_k': 40, 'was_impossible': False}),\n",
       " Prediction(uid='620', iid='240', r_ui=5.0, est=2.7972376883075762, details={'actual_k': 40, 'was_impossible': False}),\n",
       " Prediction(uid='553', iid='638', r_ui=3.0, est=3.969098350282498, details={'actual_k': 29, 'was_impossible': False}),\n",
       " Prediction(uid='85', iid='310', r_ui=3.0, est=3.4529576475209005, details={'actual_k': 40, 'was_impossible': False}),\n",
       " Prediction(uid='130', iid='816', r_ui=5.0, est=2.329121460891863, details={'actual_k': 17, 'was_impossible': False}),\n",
       " Prediction(uid='70', iid='82', r_ui=4.0, est=3.603493699763642, details={'actual_k': 40, 'was_impossible': False}),\n",
       " Prediction(uid='313', iid='44', r_ui=3.0, est=3.370218548755958, details={'actual_k': 40, 'was_impossible': False}),\n",
       " Prediction(uid='128', iid='505', r_ui=4.0, est=4.128938016787474, details={'actual_k': 40, 'was_impossible': False}),\n",
       " Prediction(uid='468', iid='367', r_ui=4.0, est=3.5522717921966085, details={'actual_k': 40, 'was_impossible': False}),\n",
       " Prediction(uid='551', iid='76', r_ui=4.0, est=3.513668054413073, details={'actual_k': 40, 'was_impossible': False}),\n",
       " Prediction(uid='597', iid='235', r_ui=4.0, est=2.6450887734043502, details={'actual_k': 40, 'was_impossible': False}),\n",
       " Prediction(uid='825', iid='98', r_ui=5.0, est=4.327267024347914, details={'actual_k': 40, 'was_impossible': False}),\n",
       " Prediction(uid='498', iid='673', r_ui=3.0, est=3.5791048471697264, details={'actual_k': 40, 'was_impossible': False}),\n",
       " Prediction(uid='385', iid='1071', r_ui=4.0, est=2.7867093641463336, details={'actual_k': 14, 'was_impossible': False}),\n",
       " Prediction(uid='18', iid='805', r_ui=4.0, est=3.733085042492528, details={'actual_k': 22, 'was_impossible': False}),\n",
       " Prediction(uid='484', iid='472', r_ui=4.0, est=3.509298538510938, details={'actual_k': 40, 'was_impossible': False}),\n",
       " Prediction(uid='429', iid='1136', r_ui=4.0, est=3.5673596029063064, details={'actual_k': 25, 'was_impossible': False}),\n",
       " Prediction(uid='561', iid='427', r_ui=4.0, est=4.102134755104912, details={'actual_k': 40, 'was_impossible': False}),\n",
       " Prediction(uid='328', iid='540', r_ui=3.0, est=2.507376603111662, details={'actual_k': 27, 'was_impossible': False}),\n",
       " Prediction(uid='497', iid='584', r_ui=4.0, est=3.5825635385163976, details={'actual_k': 40, 'was_impossible': False}),\n",
       " Prediction(uid='503', iid='237', r_ui=4.0, est=4.102572452170445, details={'actual_k': 40, 'was_impossible': False}),\n",
       " Prediction(uid='489', iid='872', r_ui=2.0, est=3.3093775559162792, details={'actual_k': 27, 'was_impossible': False}),\n",
       " Prediction(uid='943', iid='450', r_ui=1.0, est=2.2664304288956894, details={'actual_k': 40, 'was_impossible': False}),\n",
       " Prediction(uid='538', iid='712', r_ui=3.0, est=3.0498447299460705, details={'actual_k': 34, 'was_impossible': False}),\n",
       " Prediction(uid='94', iid='1219', r_ui=4.0, est=2.700117909981773, details={'actual_k': 11, 'was_impossible': False}),\n",
       " Prediction(uid='577', iid='194', r_ui=4.0, est=4.1642029729764385, details={'actual_k': 40, 'was_impossible': False}),\n",
       " Prediction(uid='622', iid='175', r_ui=4.0, est=3.7198396747634876, details={'actual_k': 40, 'was_impossible': False}),\n",
       " Prediction(uid='608', iid='182', r_ui=4.0, est=3.958559940371477, details={'actual_k': 40, 'was_impossible': False}),\n",
       " Prediction(uid='432', iid='150', r_ui=5.0, est=3.7988158569398602, details={'actual_k': 40, 'was_impossible': False}),\n",
       " Prediction(uid='13', iid='889', r_ui=3.0, est=3.480031745235086, details={'actual_k': 11, 'was_impossible': False}),\n",
       " Prediction(uid='170', iid='678', r_ui=4.0, est=2.9001019607649026, details={'actual_k': 40, 'was_impossible': False}),\n",
       " Prediction(uid='657', iid='508', r_ui=4.0, est=3.3888426349455543, details={'actual_k': 40, 'was_impossible': False}),\n",
       " Prediction(uid='886', iid='108', r_ui=5.0, est=3.0601713365828407, details={'actual_k': 40, 'was_impossible': False}),\n",
       " Prediction(uid='898', iid='316', r_ui=5.0, est=4.175934907639078, details={'actual_k': 40, 'was_impossible': False}),\n",
       " Prediction(uid='670', iid='611', r_ui=5.0, est=4.145063979137967, details={'actual_k': 32, 'was_impossible': False}),\n",
       " Prediction(uid='851', iid='410', r_ui=4.0, est=3.59275655088532, details={'actual_k': 40, 'was_impossible': False}),\n",
       " Prediction(uid='354', iid='61', r_ui=5.0, est=3.8693149947707832, details={'actual_k': 40, 'was_impossible': False}),\n",
       " Prediction(uid='128', iid='131', r_ui=5.0, est=3.8083153952994437, details={'actual_k': 40, 'was_impossible': False}),\n",
       " Prediction(uid='327', iid='65', r_ui=2.0, est=3.40571106779024, details={'actual_k': 40, 'was_impossible': False}),\n",
       " Prediction(uid='661', iid='79', r_ui=5.0, est=4.264084166722578, details={'actual_k': 40, 'was_impossible': False}),\n",
       " Prediction(uid='927', iid='395', r_ui=3.0, est=2.657831375323056, details={'actual_k': 40, 'was_impossible': False}),\n",
       " Prediction(uid='76', iid='514', r_ui=4.0, est=4.023183487452632, details={'actual_k': 40, 'was_impossible': False}),\n",
       " Prediction(uid='102', iid='102', r_ui=3.0, est=2.983931260380738, details={'actual_k': 38, 'was_impossible': False}),\n",
       " Prediction(uid='93', iid='815', r_ui=4.0, est=3.116684172215697, details={'actual_k': 40, 'was_impossible': False}),\n",
       " Prediction(uid='538', iid='735', r_ui=3.0, est=3.9342005969813636, details={'actual_k': 40, 'was_impossible': False}),\n",
       " Prediction(uid='864', iid='770', r_ui=3.0, est=3.40218148988994, details={'actual_k': 40, 'was_impossible': False}),\n",
       " Prediction(uid='5', iid='411', r_ui=1.0, est=3.075385928151426, details={'actual_k': 40, 'was_impossible': False}),\n",
       " Prediction(uid='230', iid='451', r_ui=4.0, est=3.6931759557800126, details={'actual_k': 40, 'was_impossible': False}),\n",
       " Prediction(uid='733', iid='740', r_ui=3.0, est=3.329853482247532, details={'actual_k': 40, 'was_impossible': False}),\n",
       " Prediction(uid='112', iid='245', r_ui=4.0, est=3.337201547727634, details={'actual_k': 40, 'was_impossible': False}),\n",
       " Prediction(uid='234', iid='604', r_ui=5.0, est=4.088950473764492, details={'actual_k': 40, 'was_impossible': False}),\n",
       " Prediction(uid='194', iid='1028', r_ui=2.0, est=2.6873997282214663, details={'actual_k': 40, 'was_impossible': False}),\n",
       " Prediction(uid='81', iid='273', r_ui=4.0, est=3.6912474379187215, details={'actual_k': 40, 'was_impossible': False}),\n",
       " Prediction(uid='378', iid='200', r_ui=3.0, est=4.101529772396647, details={'actual_k': 40, 'was_impossible': False}),\n",
       " Prediction(uid='279', iid='1487', r_ui=1.0, est=2.386287481829124, details={'actual_k': 4, 'was_impossible': False}),\n",
       " Prediction(uid='426', iid='1020', r_ui=4.0, est=3.980392714330392, details={'actual_k': 25, 'was_impossible': False}),\n",
       " Prediction(uid='303', iid='421', r_ui=4.0, est=3.7455242411298832, details={'actual_k': 40, 'was_impossible': False}),\n",
       " Prediction(uid='255', iid='147', r_ui=4.0, est=3.398957632613641, details={'actual_k': 40, 'was_impossible': False}),\n",
       " Prediction(uid='664', iid='228', r_ui=4.0, est=3.81256026303793, details={'actual_k': 40, 'was_impossible': False}),\n",
       " Prediction(uid='363', iid='651', r_ui=3.0, est=4.131089718505905, details={'actual_k': 40, 'was_impossible': False}),\n",
       " Prediction(uid='716', iid='504', r_ui=5.0, est=4.171208280191089, details={'actual_k': 40, 'was_impossible': False}),\n",
       " Prediction(uid='480', iid='185', r_ui=2.0, est=4.25659898001831, details={'actual_k': 40, 'was_impossible': False}),\n",
       " Prediction(uid='328', iid='323', r_ui=3.0, est=3.039450713836253, details={'actual_k': 40, 'was_impossible': False}),\n",
       " Prediction(uid='320', iid='849', r_ui=4.0, est=2.7944538428061345, details={'actual_k': 38, 'was_impossible': False}),\n",
       " Prediction(uid='103', iid='487', r_ui=4.0, est=4.154746046927452, details={'actual_k': 40, 'was_impossible': False}),\n",
       " Prediction(uid='505', iid='623', r_ui=3.0, est=2.9210780603720474, details={'actual_k': 29, 'was_impossible': False}),\n",
       " Prediction(uid='206', iid='300', r_ui=1.0, est=3.7627369272581292, details={'actual_k': 40, 'was_impossible': False}),\n",
       " Prediction(uid='922', iid='151', r_ui=5.0, est=3.5959572106585145, details={'actual_k': 40, 'was_impossible': False}),\n",
       " Prediction(uid='16', iid='195', r_ui=5.0, est=4.3191313761565056, details={'actual_k': 40, 'was_impossible': False}),\n",
       " Prediction(uid='189', iid='248', r_ui=4.0, est=3.8809989450712647, details={'actual_k': 40, 'was_impossible': False}),\n",
       " Prediction(uid='823', iid='286', r_ui=5.0, est=3.543666206473386, details={'actual_k': 40, 'was_impossible': False}),\n",
       " Prediction(uid='104', iid='312', r_ui=3.0, est=3.0174874816425596, details={'actual_k': 40, 'was_impossible': False}),\n",
       " Prediction(uid='464', iid='194', r_ui=5.0, est=4.046030405792387, details={'actual_k': 40, 'was_impossible': False}),\n",
       " Prediction(uid='602', iid='871', r_ui=3.0, est=2.540769978963458, details={'actual_k': 40, 'was_impossible': False}),\n",
       " Prediction(uid='521', iid='732', r_ui=3.0, est=3.240100380048135, details={'actual_k': 40, 'was_impossible': False}),\n",
       " Prediction(uid='387', iid='418', r_ui=3.0, est=3.436684542203593, details={'actual_k': 40, 'was_impossible': False}),\n",
       " Prediction(uid='670', iid='657', r_ui=5.0, est=4.509970812826637, details={'actual_k': 40, 'was_impossible': False}),\n",
       " Prediction(uid='503', iid='427', r_ui=5.0, est=4.580126378154683, details={'actual_k': 40, 'was_impossible': False}),\n",
       " Prediction(uid='18', iid='966', r_ui=2.0, est=4.397907748588109, details={'actual_k': 15, 'was_impossible': False}),\n",
       " Prediction(uid='782', iid='890', r_ui=1.0, est=2.0175991296244113, details={'actual_k': 32, 'was_impossible': False}),\n",
       " Prediction(uid='313', iid='265', r_ui=4.0, est=3.9208060261807565, details={'actual_k': 40, 'was_impossible': False}),\n",
       " Prediction(uid='796', iid='568', r_ui=4.0, est=4.011072612867941, details={'actual_k': 40, 'was_impossible': False}),\n",
       " Prediction(uid='577', iid='88', r_ui=3.0, est=4.135591379092601, details={'actual_k': 40, 'was_impossible': False}),\n",
       " Prediction(uid='234', iid='316', r_ui=4.0, est=3.88508879995479, details={'actual_k': 40, 'was_impossible': False}),\n",
       " Prediction(uid='655', iid='237', r_ui=3.0, est=3.544973077540929, details={'actual_k': 40, 'was_impossible': False}),\n",
       " Prediction(uid='664', iid='182', r_ui=4.0, est=4.146269004233525, details={'actual_k': 40, 'was_impossible': False}),\n",
       " Prediction(uid='328', iid='316', r_ui=5.0, est=4.300504429270959, details={'actual_k': 40, 'was_impossible': False}),\n",
       " Prediction(uid='790', iid='1188', r_ui=3.0, est=2.724467888534342, details={'actual_k': 34, 'was_impossible': False}),\n",
       " Prediction(uid='722', iid='333', r_ui=5.0, est=3.7374229947765585, details={'actual_k': 40, 'was_impossible': False}),\n",
       " Prediction(uid='328', iid='984', r_ui=3.0, est=3.0669054665734876, details={'actual_k': 27, 'was_impossible': False}),\n",
       " Prediction(uid='724', iid='313', r_ui=5.0, est=4.1117509459156985, details={'actual_k': 40, 'was_impossible': False}),\n",
       " Prediction(uid='884', iid='275', r_ui=4.0, est=4.387937232554912, details={'actual_k': 40, 'was_impossible': False}),\n",
       " Prediction(uid='429', iid='423', r_ui=4.0, est=3.4806665660383778, details={'actual_k': 40, 'was_impossible': False}),\n",
       " Prediction(uid='109', iid='559', r_ui=3.0, est=3.255872985518229, details={'actual_k': 40, 'was_impossible': False}),\n",
       " Prediction(uid='226', iid='147', r_ui=3.0, est=3.5668162093683997, details={'actual_k': 40, 'was_impossible': False}),\n",
       " Prediction(uid='407', iid='143', r_ui=4.0, est=3.6339934346315617, details={'actual_k': 40, 'was_impossible': False}),\n",
       " Prediction(uid='43', iid='742', r_ui=5.0, est=3.8684905625056922, details={'actual_k': 40, 'was_impossible': False}),\n",
       " Prediction(uid='573', iid='176', r_ui=3.0, est=3.8667261168136617, details={'actual_k': 40, 'was_impossible': False}),\n",
       " Prediction(uid='276', iid='121', r_ui=4.0, est=3.364084507657909, details={'actual_k': 40, 'was_impossible': False}),\n",
       " Prediction(uid='105', iid='880', r_ui=3.0, est=3.314580837268289, details={'actual_k': 40, 'was_impossible': False}),\n",
       " Prediction(uid='194', iid='222', r_ui=1.0, est=3.491180439233532, details={'actual_k': 40, 'was_impossible': False}),\n",
       " Prediction(uid='712', iid='365', r_ui=3.0, est=3.2243912399042762, details={'actual_k': 35, 'was_impossible': False}),\n",
       " Prediction(uid='346', iid='127', r_ui=5.0, est=4.072050141951767, details={'actual_k': 40, 'was_impossible': False}),\n",
       " Prediction(uid='7', iid='509', r_ui=5.0, est=3.98551358572466, details={'actual_k': 40, 'was_impossible': False}),\n",
       " Prediction(uid='405', iid='89', r_ui=1.0, est=3.8735010948670596, details={'actual_k': 40, 'was_impossible': False}),\n",
       " Prediction(uid='7', iid='440', r_ui=1.0, est=1.8964369726515922, details={'actual_k': 10, 'was_impossible': False}),\n",
       " Prediction(uid='443', iid='307', r_ui=3.0, est=3.5884968573499854, details={'actual_k': 40, 'was_impossible': False}),\n",
       " Prediction(uid='312', iid='529', r_ui=5.0, est=4.099708474060922, details={'actual_k': 40, 'was_impossible': False}),\n",
       " Prediction(uid='758', iid='356', r_ui=2.0, est=3.561389600616141, details={'actual_k': 40, 'was_impossible': False}),\n",
       " Prediction(uid='896', iid='422', r_ui=3.0, est=2.650026563706638, details={'actual_k': 18, 'was_impossible': False}),\n",
       " Prediction(uid='922', iid='588', r_ui=4.0, est=4.021034360240055, details={'actual_k': 40, 'was_impossible': False}),\n",
       " Prediction(uid='566', iid='33', r_ui=2.0, est=3.44322647480882, details={'actual_k': 40, 'was_impossible': False}),\n",
       " Prediction(uid='16', iid='603', r_ui=5.0, est=4.597857264657034, details={'actual_k': 40, 'was_impossible': False}),\n",
       " Prediction(uid='327', iid='1129', r_ui=2.0, est=3.4383882341457443, details={'actual_k': 19, 'was_impossible': False}),\n",
       " Prediction(uid='407', iid='879', r_ui=3.0, est=3.3385328129448126, details={'actual_k': 40, 'was_impossible': False}),\n",
       " Prediction(uid='524', iid='281', r_ui=2.0, est=3.237387303388253, details={'actual_k': 40, 'was_impossible': False}),\n",
       " Prediction(uid='406', iid='429', r_ui=4.0, est=4.1175711162461175, details={'actual_k': 40, 'was_impossible': False}),\n",
       " Prediction(uid='727', iid='179', r_ui=3.0, est=3.604847540803807, details={'actual_k': 40, 'was_impossible': False}),\n",
       " Prediction(uid='655', iid='1161', r_ui=3.0, est=2.973891942339104, details={'actual_k': 9, 'was_impossible': False}),\n",
       " Prediction(uid='102', iid='62', r_ui=3.0, est=2.8891330383561282, details={'actual_k': 40, 'was_impossible': False}),\n",
       " Prediction(uid='104', iid='9', r_ui=2.0, est=3.9224087519271187, details={'actual_k': 40, 'was_impossible': False}),\n",
       " Prediction(uid='167', iid='1306', r_ui=5.0, est=1, details={'actual_k': 1, 'was_impossible': False}),\n",
       " Prediction(uid='753', iid='673', r_ui=1.0, est=3.6636244122379393, details={'actual_k': 40, 'was_impossible': False}),\n",
       " Prediction(uid='130', iid='288', r_ui=5.0, est=3.834565462642739, details={'actual_k': 40, 'was_impossible': False}),\n",
       " Prediction(uid='522', iid='134', r_ui=5.0, est=4.288103986953671, details={'actual_k': 40, 'was_impossible': False}),\n",
       " Prediction(uid='903', iid='156', r_ui=5.0, est=4.119835189790645, details={'actual_k': 40, 'was_impossible': False}),\n",
       " Prediction(uid='536', iid='1030', r_ui=3.0, est=2.2286126250466527, details={'actual_k': 14, 'was_impossible': False}),\n",
       " Prediction(uid='916', iid='655', r_ui=3.0, est=3.7598554681818537, details={'actual_k': 40, 'was_impossible': False}),\n",
       " Prediction(uid='808', iid='872', r_ui=5.0, est=3.170857430039804, details={'actual_k': 27, 'was_impossible': False}),\n",
       " Prediction(uid='314', iid='327', r_ui=4.0, est=3.32246232974227, details={'actual_k': 40, 'was_impossible': False}),\n",
       " Prediction(uid='642', iid='102', r_ui=5.0, est=3.1658369156286477, details={'actual_k': 38, 'was_impossible': False}),\n",
       " Prediction(uid='887', iid='143', r_ui=5.0, est=3.698568857320984, details={'actual_k': 40, 'was_impossible': False}),\n",
       " Prediction(uid='374', iid='1028', r_ui=1.0, est=3.287866640134806, details={'actual_k': 40, 'was_impossible': False}),\n",
       " Prediction(uid='389', iid='514', r_ui=5.0, est=4.221371370036261, details={'actual_k': 40, 'was_impossible': False}),\n",
       " Prediction(uid='587', iid='338', r_ui=4.0, est=2.358112442297803, details={'actual_k': 40, 'was_impossible': False}),\n",
       " Prediction(uid='332', iid='294', r_ui=5.0, est=3.4250523001729576, details={'actual_k': 40, 'was_impossible': False}),\n",
       " Prediction(uid='181', iid='824', r_ui=1.0, est=2.6412140683834364, details={'actual_k': 34, 'was_impossible': False}),\n",
       " Prediction(uid='540', iid='591', r_ui=3.0, est=3.652858528603044, details={'actual_k': 40, 'was_impossible': False}),\n",
       " Prediction(uid='543', iid='157', r_ui=3.0, est=3.9262623990752785, details={'actual_k': 40, 'was_impossible': False}),\n",
       " Prediction(uid='78', iid='301', r_ui=5.0, est=3.252892207461425, details={'actual_k': 40, 'was_impossible': False}),\n",
       " Prediction(uid='406', iid='601', r_ui=3.0, est=4.079757689815474, details={'actual_k': 17, 'was_impossible': False}),\n",
       " Prediction(uid='387', iid='768', r_ui=1.0, est=3.199955542843595, details={'actual_k': 34, 'was_impossible': False}),\n",
       " Prediction(uid='239', iid='64', r_ui=1.0, est=4.4966173724379415, details={'actual_k': 40, 'was_impossible': False}),\n",
       " Prediction(uid='749', iid='1615', r_ui=4.0, est=2.525597271115341, details={'actual_k': 5, 'was_impossible': False}),\n",
       " Prediction(uid='757', iid='101', r_ui=4.0, est=3.361066940113675, details={'actual_k': 40, 'was_impossible': False}),\n",
       " Prediction(uid='707', iid='692', r_ui=4.0, est=3.4022108931063713, details={'actual_k': 40, 'was_impossible': False}),\n",
       " Prediction(uid='683', iid='258', r_ui=3.0, est=3.9343506903981895, details={'actual_k': 40, 'was_impossible': False}),\n",
       " Prediction(uid='906', iid='10', r_ui=4.0, est=3.8404020511020036, details={'actual_k': 40, 'was_impossible': False}),\n",
       " Prediction(uid='829', iid='70', r_ui=4.0, est=3.7570364317795852, details={'actual_k': 40, 'was_impossible': False}),\n",
       " Prediction(uid='553', iid='607', r_ui=4.0, est=4.136949096922008, details={'actual_k': 40, 'was_impossible': False}),\n",
       " Prediction(uid='595', iid='298', r_ui=4.0, est=3.835705045259458, details={'actual_k': 40, 'was_impossible': False}),\n",
       " Prediction(uid='783', iid='345', r_ui=4.0, est=3.4605417172914694, details={'actual_k': 40, 'was_impossible': False}),\n",
       " Prediction(uid='642', iid='1182', r_ui=2.0, est=2.4771240567552355, details={'actual_k': 8, 'was_impossible': False}),\n",
       " Prediction(uid='450', iid='732', r_ui=3.0, est=3.9217451061887734, details={'actual_k': 40, 'was_impossible': False}),\n",
       " Prediction(uid='710', iid='174', r_ui=4.0, est=4.24948062780287, details={'actual_k': 40, 'was_impossible': False}),\n",
       " Prediction(uid='802', iid='7', r_ui=5.0, est=3.985228007760163, details={'actual_k': 40, 'was_impossible': False}),\n",
       " Prediction(uid='542', iid='386', r_ui=3.0, est=2.846348376200679, details={'actual_k': 40, 'was_impossible': False}),\n",
       " Prediction(uid='6', iid='191', r_ui=4.0, est=4.19923241082187, details={'actual_k': 40, 'was_impossible': False}),\n",
       " Prediction(uid='69', iid='265', r_ui=4.0, est=3.735094483216335, details={'actual_k': 40, 'was_impossible': False}),\n",
       " Prediction(uid='521', iid='161', r_ui=2.0, est=3.3264384003225222, details={'actual_k': 40, 'was_impossible': False}),\n",
       " Prediction(uid='934', iid='100', r_ui=4.0, est=4.167193216753082, details={'actual_k': 40, 'was_impossible': False}),\n",
       " Prediction(uid='525', iid='1315', r_ui=4.0, est=3.077862016775843, details={'actual_k': 14, 'was_impossible': False}),\n",
       " Prediction(uid='344', iid='244', r_ui=3.0, est=3.1631019814385697, details={'actual_k': 40, 'was_impossible': False}),\n",
       " Prediction(uid='913', iid='343', r_ui=1.0, est=2.9371806422957385, details={'actual_k': 40, 'was_impossible': False}),\n",
       " Prediction(uid='805', iid='942', r_ui=3.0, est=3.436570463801972, details={'actual_k': 37, 'was_impossible': False}),\n",
       " Prediction(uid='835', iid='393', r_ui=5.0, est=3.6137626263025835, details={'actual_k': 40, 'was_impossible': False}),\n",
       " Prediction(uid='381', iid='59', r_ui=3.0, est=4.272344838293677, details={'actual_k': 40, 'was_impossible': False}),\n",
       " Prediction(uid='435', iid='181', r_ui=5.0, est=4.048818170226968, details={'actual_k': 40, 'was_impossible': False}),\n",
       " Prediction(uid='886', iid='663', r_ui=4.0, est=4.093901880829239, details={'actual_k': 40, 'was_impossible': False}),\n",
       " Prediction(uid='444', iid='916', r_ui=3.0, est=3.2469573943632515, details={'actual_k': 10, 'was_impossible': False}),\n",
       " Prediction(uid='865', iid='919', r_ui=5.0, est=3.760011907422975, details={'actual_k': 40, 'was_impossible': False}),\n",
       " Prediction(uid='823', iid='50', r_ui=5.0, est=4.558194389069395, details={'actual_k': 40, 'was_impossible': False}),\n",
       " Prediction(uid='500', iid='100', r_ui=4.0, est=4.236407016878211, details={'actual_k': 40, 'was_impossible': False}),\n",
       " Prediction(uid='398', iid='991', r_ui=2.0, est=1.9268717929748753, details={'actual_k': 11, 'was_impossible': False}),\n",
       " Prediction(uid='532', iid='368', r_ui=3.0, est=1.9168237344492565, details={'actual_k': 25, 'was_impossible': False}),\n",
       " Prediction(uid='303', iid='564', r_ui=1.0, est=2.2819973457728904, details={'actual_k': 18, 'was_impossible': False}),\n",
       " Prediction(uid='150', iid='127', r_ui=5.0, est=4.059960949322057, details={'actual_k': 40, 'was_impossible': False}),\n",
       " Prediction(uid='724', iid='302', r_ui=3.0, est=4.236404820392969, details={'actual_k': 40, 'was_impossible': False}),\n",
       " Prediction(uid='163', iid='98', r_ui=4.0, est=4.294047717621449, details={'actual_k': 40, 'was_impossible': False}),\n",
       " Prediction(uid='457', iid='476', r_ui=2.0, est=3.2222015183606905, details={'actual_k': 40, 'was_impossible': False}),\n",
       " Prediction(uid='804', iid='523', r_ui=5.0, est=4.363544542009117, details={'actual_k': 40, 'was_impossible': False}),\n",
       " Prediction(uid='296', iid='151', r_ui=2.0, est=3.976997645063475, details={'actual_k': 40, 'was_impossible': False}),\n",
       " Prediction(uid='718', iid='689', r_ui=4.0, est=3.2504491440417467, details={'actual_k': 40, 'was_impossible': False}),\n",
       " Prediction(uid='190', iid='147', r_ui=4.0, est=3.589123042796723, details={'actual_k': 40, 'was_impossible': False}),\n",
       " Prediction(uid='495', iid='404', r_ui=4.0, est=3.8105523968210626, details={'actual_k': 40, 'was_impossible': False}),\n",
       " Prediction(uid='543', iid='44', r_ui=3.0, est=3.304878228340838, details={'actual_k': 40, 'was_impossible': False}),\n",
       " Prediction(uid='559', iid='191', r_ui=5.0, est=4.359769154023146, details={'actual_k': 40, 'was_impossible': False}),\n",
       " Prediction(uid='556', iid='482', r_ui=5.0, est=4.245790125670058, details={'actual_k': 40, 'was_impossible': False}),\n",
       " Prediction(uid='291', iid='816', r_ui=3.0, est=2.369727968687926, details={'actual_k': 17, 'was_impossible': False}),\n",
       " Prediction(uid='334', iid='290', r_ui=3.0, est=2.981570725916992, details={'actual_k': 40, 'was_impossible': False}),\n",
       " Prediction(uid='749', iid='78', r_ui=3.0, est=2.5680665593430487, details={'actual_k': 29, 'was_impossible': False}),\n",
       " Prediction(uid='450', iid='66', r_ui=4.0, est=3.783114248406379, details={'actual_k': 40, 'was_impossible': False}),\n",
       " Prediction(uid='514', iid='70', r_ui=5.0, est=3.6150969342580486, details={'actual_k': 40, 'was_impossible': False}),\n",
       " Prediction(uid='360', iid='197', r_ui=5.0, est=4.1526514386667435, details={'actual_k': 40, 'was_impossible': False}),\n",
       " Prediction(uid='666', iid='1098', r_ui=4.0, est=3.7354789256297187, details={'actual_k': 31, 'was_impossible': False}),\n",
       " Prediction(uid='269', iid='608', r_ui=4.0, est=3.7532727221980022, details={'actual_k': 18, 'was_impossible': False}),\n",
       " Prediction(uid='504', iid='202', r_ui=3.0, est=3.63856560832456, details={'actual_k': 40, 'was_impossible': False}),\n",
       " Prediction(uid='932', iid='228', r_ui=4.0, est=3.871938884077085, details={'actual_k': 40, 'was_impossible': False}),\n",
       " Prediction(uid='472', iid='1210', r_ui=3.0, est=3.0385424187678183, details={'actual_k': 26, 'was_impossible': False}),\n",
       " Prediction(uid='642', iid='254', r_ui=4.0, est=2.828602803194119, details={'actual_k': 40, 'was_impossible': False}),\n",
       " Prediction(uid='806', iid='553', r_ui=3.0, est=3.192143748222967, details={'actual_k': 40, 'was_impossible': False}),\n",
       " Prediction(uid='593', iid='58', r_ui=4.0, est=3.705080539824827, details={'actual_k': 40, 'was_impossible': False}),\n",
       " Prediction(uid='213', iid='56', r_ui=5.0, est=4.300861787560579, details={'actual_k': 40, 'was_impossible': False}),\n",
       " Prediction(uid='524', iid='447', r_ui=5.0, est=3.4611669891974297, details={'actual_k': 40, 'was_impossible': False}),\n",
       " Prediction(uid='195', iid='132', r_ui=5.0, est=4.325877334065607, details={'actual_k': 40, 'was_impossible': False}),\n",
       " Prediction(uid='244', iid='17', r_ui=2.0, est=3.280696954286911, details={'actual_k': 40, 'was_impossible': False}),\n",
       " Prediction(uid='332', iid='123', r_ui=4.0, est=3.36846248729837, details={'actual_k': 40, 'was_impossible': False}),\n",
       " Prediction(uid='162', iid='474', r_ui=3.0, est=4.052759382979613, details={'actual_k': 40, 'was_impossible': False}),\n",
       " Prediction(uid='611', iid='302', r_ui=5.0, est=4.138424860926515, details={'actual_k': 40, 'was_impossible': False}),\n",
       " Prediction(uid='405', iid='536', r_ui=1.0, est=3.857584966147275, details={'actual_k': 7, 'was_impossible': False}),\n",
       " Prediction(uid='16', iid='812', r_ui=2.0, est=3.198365903890701, details={'actual_k': 15, 'was_impossible': False}),\n",
       " Prediction(uid='749', iid='541', r_ui=3.0, est=2.86670809295023, details={'actual_k': 28, 'was_impossible': False}),\n",
       " Prediction(uid='653', iid='742', r_ui=3.0, est=3.3926570054952636, details={'actual_k': 40, 'was_impossible': False}),\n",
       " Prediction(uid='18', iid='100', r_ui=5.0, est=4.289334280743877, details={'actual_k': 40, 'was_impossible': False}),\n",
       " Prediction(uid='426', iid='1079', r_ui=3.0, est=2.1494312092738226, details={'actual_k': 35, 'was_impossible': False}),\n",
       " Prediction(uid='7', iid='588', r_ui=4.0, est=4.004757806318481, details={'actual_k': 40, 'was_impossible': False}),\n",
       " Prediction(uid='347', iid='85', r_ui=5.0, est=3.2539747134026147, details={'actual_k': 40, 'was_impossible': False}),\n",
       " Prediction(uid='151', iid='487', r_ui=5.0, est=4.276170747075584, details={'actual_k': 40, 'was_impossible': False}),\n",
       " Prediction(uid='165', iid='15', r_ui=5.0, est=3.8670899949310193, details={'actual_k': 40, 'was_impossible': False}),\n",
       " Prediction(uid='246', iid='658', r_ui=4.0, est=3.248563777023435, details={'actual_k': 40, 'was_impossible': False}),\n",
       " Prediction(uid='95', iid='58', r_ui=3.0, est=3.8399223304578958, details={'actual_k': 40, 'was_impossible': False}),\n",
       " Prediction(uid='26', iid='936', r_ui=4.0, est=3.9544449068935235, details={'actual_k': 22, 'was_impossible': False}),\n",
       " Prediction(uid='330', iid='1044', r_ui=5.0, est=3.3509700640604776, details={'actual_k': 28, 'was_impossible': False}),\n",
       " Prediction(uid='535', iid='181', r_ui=4.0, est=4.171401656512114, details={'actual_k': 40, 'was_impossible': False}),\n",
       " Prediction(uid='601', iid='204', r_ui=2.0, est=3.4596411863307837, details={'actual_k': 40, 'was_impossible': False}),\n",
       " Prediction(uid='900', iid='237', r_ui=4.0, est=3.5861162913270603, details={'actual_k': 40, 'was_impossible': False}),\n",
       " Prediction(uid='660', iid='227', r_ui=2.0, est=3.0453559539546617, details={'actual_k': 40, 'was_impossible': False}),\n",
       " Prediction(uid='348', iid='118', r_ui=4.0, est=3.6192233758890113, details={'actual_k': 40, 'was_impossible': False}),\n",
       " Prediction(uid='655', iid='25', r_ui=3.0, est=2.9596676679254434, details={'actual_k': 40, 'was_impossible': False}),\n",
       " Prediction(uid='886', iid='168', r_ui=4.0, est=4.178265197997984, details={'actual_k': 40, 'was_impossible': False}),\n",
       " Prediction(uid='534', iid='1059', r_ui=4.0, est=2.8976987507935394, details={'actual_k': 26, 'was_impossible': False}),\n",
       " Prediction(uid='637', iid='268', r_ui=2.0, est=3.5883594680571567, details={'actual_k': 40, 'was_impossible': False}),\n",
       " Prediction(uid='251', iid='427', r_ui=4.0, est=4.433585730505267, details={'actual_k': 40, 'was_impossible': False}),\n",
       " Prediction(uid='363', iid='161', r_ui=4.0, est=3.102955271428235, details={'actual_k': 40, 'was_impossible': False}),\n",
       " Prediction(uid='458', iid='475', r_ui=4.0, est=3.978116753671481, details={'actual_k': 40, 'was_impossible': False}),\n",
       " Prediction(uid='407', iid='655', r_ui=4.0, est=3.6992432443574814, details={'actual_k': 40, 'was_impossible': False}),\n",
       " Prediction(uid='870', iid='209', r_ui=4.0, est=4.01810886695258, details={'actual_k': 40, 'was_impossible': False}),\n",
       " Prediction(uid='935', iid='181', r_ui=4.0, est=4.077517282990009, details={'actual_k': 40, 'was_impossible': False}),\n",
       " Prediction(uid='450', iid='265', r_ui=5.0, est=4.300427758447582, details={'actual_k': 40, 'was_impossible': False}),\n",
       " Prediction(uid='454', iid='451', r_ui=4.0, est=3.09688828097011, details={'actual_k': 40, 'was_impossible': False}),\n",
       " Prediction(uid='167', iid='232', r_ui=1.0, est=3.244885915147779, details={'actual_k': 40, 'was_impossible': False}),\n",
       " Prediction(uid='194', iid='515', r_ui=4.0, est=4.332133668827076, details={'actual_k': 40, 'was_impossible': False}),\n",
       " Prediction(uid='664', iid='92', r_ui=4.0, est=3.631101327047871, details={'actual_k': 40, 'was_impossible': False}),\n",
       " Prediction(uid='807', iid='427', r_ui=4.0, est=4.43672701390553, details={'actual_k': 40, 'was_impossible': False}),\n",
       " Prediction(uid='815', iid='403', r_ui=4.0, est=3.482071778951067, details={'actual_k': 40, 'was_impossible': False}),\n",
       " Prediction(uid='69', iid='628', r_ui=3.0, est=3.545781988872395, details={'actual_k': 40, 'was_impossible': False}),\n",
       " Prediction(uid='942', iid='498', r_ui=5.0, est=4.4440379848461475, details={'actual_k': 40, 'was_impossible': False}),\n",
       " Prediction(uid='248', iid='185', r_ui=3.0, est=4.077272368987673, details={'actual_k': 40, 'was_impossible': False}),\n",
       " Prediction(uid='63', iid='225', r_ui=2.0, est=2.5124661947608864, details={'actual_k': 40, 'was_impossible': False}),\n",
       " Prediction(uid='846', iid='601', r_ui=5.0, est=4.0655986742455275, details={'actual_k': 17, 'was_impossible': False}),\n",
       " Prediction(uid='492', iid='100', r_ui=4.0, est=4.193931398416886, details={'actual_k': 40, 'was_impossible': False}),\n",
       " Prediction(uid='716', iid='23', r_ui=4.0, est=4.463270348808019, details={'actual_k': 40, 'was_impossible': False}),\n",
       " Prediction(uid='407', iid='603', r_ui=4.0, est=4.45349675811327, details={'actual_k': 40, 'was_impossible': False}),\n",
       " Prediction(uid='694', iid='432', r_ui=4.0, est=3.8761691669756795, details={'actual_k': 40, 'was_impossible': False}),\n",
       " Prediction(uid='504', iid='185', r_ui=5.0, est=4.041032111630482, details={'actual_k': 40, 'was_impossible': False}),\n",
       " Prediction(uid='910', iid='286', r_ui=3.0, est=3.756383178874664, details={'actual_k': 40, 'was_impossible': False}),\n",
       " Prediction(uid='296', iid='289', r_ui=3.0, est=2.9014400155922466, details={'actual_k': 40, 'was_impossible': False}),\n",
       " Prediction(uid='520', iid='1028', r_ui=1.0, est=2.884239685290453, details={'actual_k': 40, 'was_impossible': False}),\n",
       " Prediction(uid='264', iid='448', r_ui=2.0, est=3.4262383579850404, details={'actual_k': 40, 'was_impossible': False}),\n",
       " Prediction(uid='505', iid='96', r_ui=4.0, est=4.031859431376872, details={'actual_k': 40, 'was_impossible': False}),\n",
       " Prediction(uid='343', iid='97', r_ui=4.0, est=4.2049144408071815, details={'actual_k': 40, 'was_impossible': False}),\n",
       " Prediction(uid='94', iid='313', r_ui=4.0, est=4.143252898953099, details={'actual_k': 40, 'was_impossible': False}),\n",
       " Prediction(uid='480', iid='169', r_ui=5.0, est=4.587745292878198, details={'actual_k': 40, 'was_impossible': False}),\n",
       " Prediction(uid='617', iid='219', r_ui=4.0, est=2.580171811063793, details={'actual_k': 40, 'was_impossible': False}),\n",
       " Prediction(uid='676', iid='245', r_ui=4.0, est=3.1484748968433687, details={'actual_k': 40, 'was_impossible': False}),\n",
       " Prediction(uid='554', iid='282', r_ui=3.0, est=3.868409398238931, details={'actual_k': 40, 'was_impossible': False}),\n",
       " Prediction(uid='351', iid='245', r_ui=3.0, est=3.3697748092685456, details={'actual_k': 40, 'was_impossible': False}),\n",
       " Prediction(uid='401', iid='663', r_ui=1.0, est=4.098092141638552, details={'actual_k': 40, 'was_impossible': False}),\n",
       " Prediction(uid='645', iid='482', r_ui=4.0, est=4.273454468891923, details={'actual_k': 40, 'was_impossible': False}),\n",
       " Prediction(uid='924', iid='1', r_ui=5.0, est=3.904524508158509, details={'actual_k': 40, 'was_impossible': False}),\n",
       " Prediction(uid='425', iid='355', r_ui=3.0, est=2.94142994908545, details={'actual_k': 29, 'was_impossible': False}),\n",
       " Prediction(uid='715', iid='746', r_ui=5.0, est=3.49301152420716, details={'actual_k': 40, 'was_impossible': False}),\n",
       " Prediction(uid='521', iid='154', r_ui=2.0, est=3.579269590719328, details={'actual_k': 40, 'was_impossible': False}),\n",
       " Prediction(uid='449', iid='14', r_ui=3.0, est=4.125496149144734, details={'actual_k': 40, 'was_impossible': False}),\n",
       " Prediction(uid='912', iid='427', r_ui=5.0, est=4.33594725050905, details={'actual_k': 40, 'was_impossible': False}),\n",
       " Prediction(uid='817', iid='24', r_ui=4.0, est=3.754638658692531, details={'actual_k': 40, 'was_impossible': False}),\n",
       " Prediction(uid='915', iid='334', r_ui=3.0, est=3.3560435512350733, details={'actual_k': 40, 'was_impossible': False}),\n",
       " Prediction(uid='10', iid='179', r_ui=5.0, est=4.358273814808108, details={'actual_k': 40, 'was_impossible': False}),\n",
       " Prediction(uid='251', iid='45', r_ui=5.0, est=4.327540122865786, details={'actual_k': 40, 'was_impossible': False}),\n",
       " Prediction(uid='747', iid='521', r_ui=5.0, est=4.131054078607548, details={'actual_k': 40, 'was_impossible': False}),\n",
       " Prediction(uid='486', iid='762', r_ui=4.0, est=3.2594643457276526, details={'actual_k': 40, 'was_impossible': False}),\n",
       " Prediction(uid='931', iid='116', r_ui=4.0, est=3.6662222430357243, details={'actual_k': 40, 'was_impossible': False}),\n",
       " Prediction(uid='934', iid='50', r_ui=5.0, est=4.182741066101126, details={'actual_k': 40, 'was_impossible': False}),\n",
       " Prediction(uid='940', iid='50', r_ui=4.0, est=4.143840209381749, details={'actual_k': 40, 'was_impossible': False}),\n",
       " Prediction(uid='343', iid='559', r_ui=3.0, est=3.372274828107176, details={'actual_k': 40, 'was_impossible': False}),\n",
       " Prediction(uid='87', iid='996', r_ui=3.0, est=2.60200584262711, details={'actual_k': 11, 'was_impossible': False}),\n",
       " Prediction(uid='21', iid='325', r_ui=4.0, est=2.376281557607092, details={'actual_k': 40, 'was_impossible': False}),\n",
       " Prediction(uid='869', iid='815', r_ui=1.0, est=2.979742283486476, details={'actual_k': 40, 'was_impossible': False}),\n",
       " Prediction(uid='690', iid='1042', r_ui=4.0, est=3.221001178191999, details={'actual_k': 21, 'was_impossible': False}),\n",
       " Prediction(uid='291', iid='732', r_ui=4.0, est=3.9661728826680434, details={'actual_k': 40, 'was_impossible': False}),\n",
       " Prediction(uid='472', iid='449', r_ui=5.0, est=3.3027385321375893, details={'actual_k': 40, 'was_impossible': False}),\n",
       " Prediction(uid='535', iid='558', r_ui=5.0, est=3.8118330744298317, details={'actual_k': 40, 'was_impossible': False}),\n",
       " Prediction(uid='642', iid='1039', r_ui=5.0, est=4.089565641375521, details={'actual_k': 40, 'was_impossible': False}),\n",
       " Prediction(uid='600', iid='1274', r_ui=2.0, est=1.8781960239117015, details={'actual_k': 9, 'was_impossible': False}),\n",
       " Prediction(uid='538', iid='42', r_ui=1.0, est=3.8758509632879132, details={'actual_k': 40, 'was_impossible': False}),\n",
       " Prediction(uid='718', iid='815', r_ui=4.0, est=3.364800790676639, details={'actual_k': 40, 'was_impossible': False}),\n",
       " Prediction(uid='259', iid='172', r_ui=4.0, est=4.398546035851703, details={'actual_k': 40, 'was_impossible': False}),\n",
       " Prediction(uid='757', iid='825', r_ui=3.0, est=3.1278307217229075, details={'actual_k': 40, 'was_impossible': False}),\n",
       " Prediction(uid='881', iid='480', r_ui=4.0, est=4.296036227937821, details={'actual_k': 40, 'was_impossible': False}),\n",
       " Prediction(uid='392', iid='304', r_ui=4.0, est=3.5900034832462087, details={'actual_k': 40, 'was_impossible': False}),\n",
       " Prediction(uid='897', iid='99', r_ui=5.0, est=3.935966939312484, details={'actual_k': 40, 'was_impossible': False}),\n",
       " Prediction(uid='14', iid='204', r_ui=5.0, est=3.8690407381056935, details={'actual_k': 40, 'was_impossible': False}),\n",
       " Prediction(uid='401', iid='185', r_ui=4.0, est=3.844299982687351, details={'actual_k': 40, 'was_impossible': False}),\n",
       " Prediction(uid='701', iid='328', r_ui=4.0, est=3.603558980003667, details={'actual_k': 40, 'was_impossible': False}),\n",
       " Prediction(uid='806', iid='96', r_ui=5.0, est=4.078064730696604, details={'actual_k': 40, 'was_impossible': False}),\n",
       " Prediction(uid='249', iid='23', r_ui=4.0, est=4.408604831317284, details={'actual_k': 40, 'was_impossible': False}),\n",
       " Prediction(uid='440', iid='171', r_ui=5.0, est=3.918674249323197, details={'actual_k': 40, 'was_impossible': False}),\n",
       " Prediction(uid='515', iid='300', r_ui=5.0, est=3.7527343463546368, details={'actual_k': 40, 'was_impossible': False}),\n",
       " Prediction(uid='106', iid='280', r_ui=2.0, est=2.9125463075478697, details={'actual_k': 40, 'was_impossible': False}),\n",
       " Prediction(uid='759', iid='328', r_ui=5.0, est=3.7909377174407273, details={'actual_k': 40, 'was_impossible': False}),\n",
       " Prediction(uid='389', iid='191', r_ui=5.0, est=4.254101598791519, details={'actual_k': 40, 'was_impossible': False}),\n",
       " Prediction(uid='256', iid='322', r_ui=4.0, est=3.4636265400970174, details={'actual_k': 40, 'was_impossible': False}),\n",
       " Prediction(uid='727', iid='550', r_ui=4.0, est=3.144837695919767, details={'actual_k': 40, 'was_impossible': False}),\n",
       " Prediction(uid='90', iid='221', r_ui=4.0, est=3.729914641176889, details={'actual_k': 40, 'was_impossible': False}),\n",
       " Prediction(uid='200', iid='758', r_ui=3.0, est=1.700246241868444, details={'actual_k': 13, 'was_impossible': False}),\n",
       " Prediction(uid='90', iid='57', r_ui=5.0, est=4.219904116236377, details={'actual_k': 27, 'was_impossible': False}),\n",
       " Prediction(uid='747', iid='21', r_ui=2.0, est=2.699749118571273, details={'actual_k': 40, 'was_impossible': False}),\n",
       " Prediction(uid='942', iid='261', r_ui=4.0, est=2.791627055944631, details={'actual_k': 31, 'was_impossible': False}),\n",
       " Prediction(uid='311', iid='518', r_ui=3.0, est=3.8402412965063917, details={'actual_k': 40, 'was_impossible': False}),\n",
       " Prediction(uid='633', iid='318', r_ui=4.0, est=4.355852770992718, details={'actual_k': 40, 'was_impossible': False}),\n",
       " Prediction(uid='749', iid='88', r_ui=4.0, est=3.979252662004409, details={'actual_k': 40, 'was_impossible': False}),\n",
       " Prediction(uid='374', iid='483', r_ui=3.0, est=4.605317375287663, details={'actual_k': 40, 'was_impossible': False}),\n",
       " Prediction(uid='601', iid='406', r_ui=2.0, est=2.2763220699708815, details={'actual_k': 35, 'was_impossible': False}),\n",
       " Prediction(uid='416', iid='82', r_ui=5.0, est=3.886425381406206, details={'actual_k': 40, 'was_impossible': False}),\n",
       " Prediction(uid='782', iid='254', r_ui=2.0, est=2.5037114192080483, details={'actual_k': 40, 'was_impossible': False}),\n",
       " Prediction(uid='782', iid='1127', r_ui=2.0, est=2.363249288913694, details={'actual_k': 5, 'was_impossible': False}),\n",
       " Prediction(uid='588', iid='125', r_ui=3.0, est=3.4437130245463403, details={'actual_k': 40, 'was_impossible': False}),\n",
       " Prediction(uid='665', iid='475', r_ui=3.0, est=4.1017243521981515, details={'actual_k': 40, 'was_impossible': False}),\n",
       " Prediction(uid='488', iid='510', r_ui=4.0, est=3.8668221282106763, details={'actual_k': 40, 'was_impossible': False}),\n",
       " Prediction(uid='18', iid='116', r_ui=5.0, est=3.980727145218604, details={'actual_k': 40, 'was_impossible': False}),\n",
       " Prediction(uid='85', iid='657', r_ui=4.0, est=4.342045076466841, details={'actual_k': 40, 'was_impossible': False}),\n",
       " Prediction(uid='130', iid='239', r_ui=4.0, est=3.7654582950070803, details={'actual_k': 40, 'was_impossible': False}),\n",
       " Prediction(uid='60', iid='97', r_ui=3.0, est=4.11986863056181, details={'actual_k': 40, 'was_impossible': False}),\n",
       " Prediction(uid='605', iid='597', r_ui=3.0, est=3.2057188308256768, details={'actual_k': 40, 'was_impossible': False}),\n",
       " Prediction(uid='244', iid='52', r_ui=4.0, est=4.04463634654182, details={'actual_k': 40, 'was_impossible': False}),\n",
       " Prediction(uid='487', iid='1440', r_ui=4.0, est=2.6616992527171783, details={'actual_k': 3, 'was_impossible': False}),\n",
       " Prediction(uid='804', iid='322', r_ui=5.0, est=3.231229874860566, details={'actual_k': 40, 'was_impossible': False}),\n",
       " Prediction(uid='262', iid='546', r_ui=2.0, est=2.779735545777057, details={'actual_k': 40, 'was_impossible': False}),\n",
       " Prediction(uid='101', iid='109', r_ui=2.0, est=3.3795772613302346, details={'actual_k': 40, 'was_impossible': False}),\n",
       " Prediction(uid='311', iid='23', r_ui=3.0, est=4.016018175001666, details={'actual_k': 40, 'was_impossible': False}),\n",
       " Prediction(uid='911', iid='478', r_ui=5.0, est=4.145166737205424, details={'actual_k': 40, 'was_impossible': False}),\n",
       " Prediction(uid='301', iid='95', r_ui=5.0, est=3.827526812787458, details={'actual_k': 40, 'was_impossible': False}),\n",
       " Prediction(uid='234', iid='484', r_ui=5.0, est=4.4139111679690775, details={'actual_k': 40, 'was_impossible': False}),\n",
       " Prediction(uid='293', iid='70', r_ui=3.0, est=3.8016772734940747, details={'actual_k': 40, 'was_impossible': False}),\n",
       " Prediction(uid='59', iid='418', r_ui=2.0, est=3.5342898831762457, details={'actual_k': 40, 'was_impossible': False}),\n",
       " Prediction(uid='160', iid='497', r_ui=4.0, est=3.868021580730969, details={'actual_k': 40, 'was_impossible': False}),\n",
       " Prediction(uid='479', iid='403', r_ui=3.0, est=3.4825529114483897, details={'actual_k': 40, 'was_impossible': False}),\n",
       " Prediction(uid='795', iid='121', r_ui=3.0, est=3.2302999119558726, details={'actual_k': 40, 'was_impossible': False}),\n",
       " Prediction(uid='90', iid='528', r_ui=5.0, est=4.43575945536427, details={'actual_k': 40, 'was_impossible': False}),\n",
       " Prediction(uid='833', iid='357', r_ui=4.0, est=4.255426491520265, details={'actual_k': 40, 'was_impossible': False}),\n",
       " Prediction(uid='682', iid='553', r_ui=3.0, est=3.2509820946714627, details={'actual_k': 40, 'was_impossible': False}),\n",
       " Prediction(uid='709', iid='576', r_ui=4.0, est=3.06068296680636, details={'actual_k': 40, 'was_impossible': False}),\n",
       " Prediction(uid='151', iid='965', r_ui=5.0, est=3.4199866873313014, details={'actual_k': 16, 'was_impossible': False}),\n",
       " Prediction(uid='320', iid='597', r_ui=3.0, est=3.159141212105859, details={'actual_k': 40, 'was_impossible': False}),\n",
       " Prediction(uid='393', iid='1168', r_ui=3.0, est=3.1410588721204764, details={'actual_k': 12, 'was_impossible': False}),\n",
       " Prediction(uid='848', iid='755', r_ui=5.0, est=3.510463803525142, details={'actual_k': 40, 'was_impossible': False}),\n",
       " Prediction(uid='279', iid='489', r_ui=2.0, est=4.078378514206591, details={'actual_k': 40, 'was_impossible': False}),\n",
       " Prediction(uid='144', iid='514', r_ui=5.0, est=3.950157674718866, details={'actual_k': 40, 'was_impossible': False}),\n",
       " Prediction(uid='464', iid='249', r_ui=2.0, est=3.639240962698008, details={'actual_k': 40, 'was_impossible': False}),\n",
       " Prediction(uid='610', iid='315', r_ui=4.0, est=3.9429998175745524, details={'actual_k': 40, 'was_impossible': False}),\n",
       " Prediction(uid='474', iid='31', r_ui=4.0, est=3.8842546964340956, details={'actual_k': 40, 'was_impossible': False}),\n",
       " Prediction(uid='305', iid='1073', r_ui=1.0, est=3.9606029117952133, details={'actual_k': 40, 'was_impossible': False}),\n",
       " Prediction(uid='711', iid='155', r_ui=4.0, est=2.959974412656295, details={'actual_k': 40, 'was_impossible': False}),\n",
       " Prediction(uid='276', iid='206', r_ui=5.0, est=3.2983046103137403, details={'actual_k': 36, 'was_impossible': False}),\n",
       " Prediction(uid='201', iid='559', r_ui=2.0, est=2.8670301870247625, details={'actual_k': 40, 'was_impossible': False}),\n",
       " Prediction(uid='591', iid='72', r_ui=3.0, est=3.1313511150963302, details={'actual_k': 40, 'was_impossible': False}),\n",
       " Prediction(uid='665', iid='109', r_ui=4.0, est=3.3505075767843775, details={'actual_k': 40, 'was_impossible': False}),\n",
       " Prediction(uid='387', iid='324', r_ui=4.0, est=3.3465207210368346, details={'actual_k': 40, 'was_impossible': False}),\n",
       " Prediction(uid='328', iid='690', r_ui=3.0, est=3.4808822220059796, details={'actual_k': 40, 'was_impossible': False}),\n",
       " Prediction(uid='14', iid='238', r_ui=5.0, est=4.287498971408601, details={'actual_k': 40, 'was_impossible': False}),\n",
       " Prediction(uid='613', iid='471', r_ui=3.0, est=3.705391575819294, details={'actual_k': 40, 'was_impossible': False}),\n",
       " Prediction(uid='343', iid='252', r_ui=4.0, est=3.0572366660018133, details={'actual_k': 40, 'was_impossible': False}),\n",
       " Prediction(uid='655', iid='959', r_ui=3.0, est=3.4110375861948024, details={'actual_k': 40, 'was_impossible': False}),\n",
       " Prediction(uid='880', iid='1030', r_ui=2.0, est=2.0825272254959435, details={'actual_k': 14, 'was_impossible': False}),\n",
       " Prediction(uid='26', iid='1015', r_ui=3.0, est=2.650515766599981, details={'actual_k': 10, 'was_impossible': False}),\n",
       " Prediction(uid='497', iid='234', r_ui=2.0, est=3.8253689840467415, details={'actual_k': 40, 'was_impossible': False}),\n",
       " Prediction(uid='846', iid='1210', r_ui=2.0, est=2.93803260788657, details={'actual_k': 26, 'was_impossible': False}),\n",
       " Prediction(uid='64', iid='144', r_ui=3.0, est=3.9442311153989102, details={'actual_k': 40, 'was_impossible': False}),\n",
       " Prediction(uid='320', iid='568', r_ui=4.0, est=3.9094467190660493, details={'actual_k': 40, 'was_impossible': False}),\n",
       " Prediction(uid='7', iid='563', r_ui=2.0, est=2.5972950454492376, details={'actual_k': 19, 'was_impossible': False}),\n",
       " Prediction(uid='847', iid='202', r_ui=4.0, est=3.6129921408299497, details={'actual_k': 40, 'was_impossible': False}),\n",
       " Prediction(uid='145', iid='1248', r_ui=3.0, est=2.9919165233813865, details={'actual_k': 14, 'was_impossible': False}),\n",
       " Prediction(uid='682', iid='39', r_ui=4.0, est=3.1420040760898478, details={'actual_k': 40, 'was_impossible': False}),\n",
       " Prediction(uid='506', iid='196', r_ui=4.0, est=4.19207013502122, details={'actual_k': 40, 'was_impossible': False}),\n",
       " Prediction(uid='330', iid='185', r_ui=4.0, est=4.239814715164277, details={'actual_k': 40, 'was_impossible': False}),\n",
       " Prediction(uid='345', iid='1016', r_ui=3.0, est=3.3163927826067905, details={'actual_k': 40, 'was_impossible': False}),\n",
       " Prediction(uid='817', iid='147', r_ui=3.0, est=3.416932396577431, details={'actual_k': 40, 'was_impossible': False}),\n",
       " Prediction(uid='114', iid='195', r_ui=4.0, est=3.801687765906844, details={'actual_k': 40, 'was_impossible': False}),\n",
       " Prediction(uid='82', iid='240', r_ui=1.0, est=2.514532438925517, details={'actual_k': 40, 'was_impossible': False}),\n",
       " Prediction(uid='60', iid='654', r_ui=4.0, est=4.445997908103917, details={'actual_k': 40, 'was_impossible': False}),\n",
       " Prediction(uid='363', iid='301', r_ui=3.0, est=3.2888854333542605, details={'actual_k': 40, 'was_impossible': False}),\n",
       " Prediction(uid='299', iid='955', r_ui=4.0, est=3.404987573027806, details={'actual_k': 40, 'was_impossible': False}),\n",
       " Prediction(uid='537', iid='633', r_ui=3.0, est=4.014896017987085, details={'actual_k': 40, 'was_impossible': False}),\n",
       " Prediction(uid='230', iid='138', r_ui=3.0, est=2.2713551539985644, details={'actual_k': 10, 'was_impossible': False}),\n",
       " Prediction(uid='405', iid='789', r_ui=1.0, est=3.625181430997048, details={'actual_k': 33, 'was_impossible': False}),\n",
       " Prediction(uid='361', iid='770', r_ui=3.0, est=3.4770965120523325, details={'actual_k': 40, 'was_impossible': False}),\n",
       " Prediction(uid='117', iid='1016', r_ui=5.0, est=3.6576159487044, details={'actual_k': 40, 'was_impossible': False}),\n",
       " Prediction(uid='49', iid='1069', r_ui=3.0, est=3.5906158683208353, details={'actual_k': 12, 'was_impossible': False}),\n",
       " Prediction(uid='716', iid='435', r_ui=4.0, est=4.3054897507718035, details={'actual_k': 40, 'was_impossible': False}),\n",
       " Prediction(uid='447', iid='879', r_ui=3.0, est=3.1321852596376725, details={'actual_k': 40, 'was_impossible': False}),\n",
       " Prediction(uid='467', iid='293', r_ui=4.0, est=3.8242248409647535, details={'actual_k': 40, 'was_impossible': False}),\n",
       " Prediction(uid='308', iid='161', r_ui=3.0, est=3.5014314591718954, details={'actual_k': 40, 'was_impossible': False}),\n",
       " Prediction(uid='267', iid='498', r_ui=5.0, est=4.440668602753369, details={'actual_k': 40, 'was_impossible': False}),\n",
       " Prediction(uid='666', iid='284', r_ui=3.0, est=3.103067030551289, details={'actual_k': 40, 'was_impossible': False}),\n",
       " Prediction(uid='933', iid='11', r_ui=4.0, est=3.317364777960708, details={'actual_k': 40, 'was_impossible': False}),\n",
       " Prediction(uid='42', iid='175', r_ui=2.0, est=3.5126068626230778, details={'actual_k': 40, 'was_impossible': False}),\n",
       " Prediction(uid='280', iid='928', r_ui=5.0, est=2.9476326611202737, details={'actual_k': 40, 'was_impossible': False}),\n",
       " Prediction(uid='295', iid='747', r_ui=4.0, est=3.526338432901973, details={'actual_k': 40, 'was_impossible': False}),\n",
       " Prediction(uid='303', iid='3', r_ui=3.0, est=3.285890827519899, details={'actual_k': 40, 'was_impossible': False}),\n",
       " Prediction(uid='704', iid='210', r_ui=4.0, est=3.8456915892339896, details={'actual_k': 40, 'was_impossible': False}),\n",
       " Prediction(uid='297', iid='209', r_ui=4.0, est=3.884354801107727, details={'actual_k': 40, 'was_impossible': False}),\n",
       " Prediction(uid='815', iid='7', r_ui=4.0, est=3.6024502488786725, details={'actual_k': 40, 'was_impossible': False}),\n",
       " Prediction(uid='387', iid='189', r_ui=5.0, est=4.142918667098164, details={'actual_k': 40, 'was_impossible': False}),\n",
       " Prediction(uid='653', iid='142', r_ui=2.0, est=2.988139278573726, details={'actual_k': 40, 'was_impossible': False}),\n",
       " Prediction(uid='620', iid='300', r_ui=3.0, est=3.7628143714043034, details={'actual_k': 40, 'was_impossible': False}),\n",
       " Prediction(uid='1', iid='148', r_ui=2.0, est=3.031648914042058, details={'actual_k': 40, 'was_impossible': False}),\n",
       " Prediction(uid='833', iid='129', r_ui=3.0, est=3.924620080745648, details={'actual_k': 40, 'was_impossible': False}),\n",
       " Prediction(uid='62', iid='712', r_ui=4.0, est=3.045310224172603, details={'actual_k': 34, 'was_impossible': False}),\n",
       " Prediction(uid='354', iid='174', r_ui=4.0, est=4.120659026502527, details={'actual_k': 40, 'was_impossible': False}),\n",
       " Prediction(uid='815', iid='427', r_ui=5.0, est=4.376196126930805, details={'actual_k': 40, 'was_impossible': False}),\n",
       " Prediction(uid='709', iid='98', r_ui=4.0, est=4.413372482737736, details={'actual_k': 40, 'was_impossible': False}),\n",
       " Prediction(uid='23', iid='269', r_ui=5.0, est=4.1284612124491655, details={'actual_k': 40, 'was_impossible': False}),\n",
       " Prediction(uid='672', iid='321', r_ui=4.0, est=3.178555074944272, details={'actual_k': 40, 'was_impossible': False}),\n",
       " Prediction(uid='870', iid='192', r_ui=5.0, est=4.2587912248048285, details={'actual_k': 40, 'was_impossible': False}),\n",
       " Prediction(uid='157', iid='117', r_ui=5.0, est=3.820945274383252, details={'actual_k': 40, 'was_impossible': False}),\n",
       " Prediction(uid='542', iid='775', r_ui=2.0, est=2.7143820267115593, details={'actual_k': 19, 'was_impossible': False}),\n",
       " Prediction(uid='707', iid='1257', r_ui=2.0, est=2.0243902439024395, details={'actual_k': 2, 'was_impossible': False}),\n",
       " Prediction(uid='305', iid='947', r_ui=4.0, est=2.9865333045050835, details={'actual_k': 10, 'was_impossible': False}),\n",
       " Prediction(uid='826', iid='540', r_ui=3.0, est=2.53111463567441, details={'actual_k': 27, 'was_impossible': False}),\n",
       " Prediction(uid='454', iid='318', r_ui=5.0, est=4.161306583346381, details={'actual_k': 40, 'was_impossible': False}),\n",
       " Prediction(uid='463', iid='508', r_ui=4.0, est=3.3867532063843795, details={'actual_k': 40, 'was_impossible': False}),\n",
       " Prediction(uid='436', iid='986', r_ui=3.0, est=2.681452507520355, details={'actual_k': 15, 'was_impossible': False}),\n",
       " Prediction(uid='537', iid='140', r_ui=2.0, est=3.0494493341872526, details={'actual_k': 40, 'was_impossible': False}),\n",
       " Prediction(uid='716', iid='13', r_ui=2.0, est=3.279705039840309, details={'actual_k': 40, 'was_impossible': False}),\n",
       " Prediction(uid='788', iid='630', r_ui=2.0, est=3.235973475699682, details={'actual_k': 22, 'was_impossible': False}),\n",
       " Prediction(uid='249', iid='7', r_ui=5.0, est=4.004063374036203, details={'actual_k': 40, 'was_impossible': False}),\n",
       " Prediction(uid='795', iid='167', r_ui=3.0, est=2.8657179619138797, details={'actual_k': 40, 'was_impossible': False}),\n",
       " Prediction(uid='334', iid='29', r_ui=2.0, est=2.4522954853485492, details={'actual_k': 40, 'was_impossible': False}),\n",
       " Prediction(uid='344', iid='258', r_ui=3.0, est=4.076840744367672, details={'actual_k': 40, 'was_impossible': False}),\n",
       " Prediction(uid='798', iid='1049', r_ui=3.0, est=2.6963434188796, details={'actual_k': 19, 'was_impossible': False}),\n",
       " Prediction(uid='303', iid='824', r_ui=3.0, est=2.778979477582736, details={'actual_k': 34, 'was_impossible': False}),\n",
       " Prediction(uid='60', iid='135', r_ui=5.0, est=4.345268796635539, details={'actual_k': 40, 'was_impossible': False}),\n",
       " Prediction(uid='181', iid='151', r_ui=2.0, est=3.410937829751136, details={'actual_k': 40, 'was_impossible': False}),\n",
       " Prediction(uid='882', iid='476', r_ui=3.0, est=3.074079510020383, details={'actual_k': 40, 'was_impossible': False}),\n",
       " Prediction(uid='539', iid='69', r_ui=5.0, est=3.8402705555155414, details={'actual_k': 40, 'was_impossible': False}),\n",
       " Prediction(uid='275', iid='199', r_ui=4.0, est=4.07047075360415, details={'actual_k': 40, 'was_impossible': False}),\n",
       " Prediction(uid='910', iid='174', r_ui=5.0, est=4.050380218493741, details={'actual_k': 40, 'was_impossible': False}),\n",
       " Prediction(uid='886', iid='22', r_ui=4.0, est=4.163584801322707, details={'actual_k': 40, 'was_impossible': False}),\n",
       " Prediction(uid='160', iid='185', r_ui=5.0, est=4.1388193880010995, details={'actual_k': 40, 'was_impossible': False}),\n",
       " Prediction(uid='887', iid='365', r_ui=5.0, est=3.222187940969563, details={'actual_k': 35, 'was_impossible': False}),\n",
       " Prediction(uid='181', iid='125', r_ui=3.0, est=3.4357623494436247, details={'actual_k': 40, 'was_impossible': False}),\n",
       " Prediction(uid='890', iid='204', r_ui=4.0, est=3.9165827114069236, details={'actual_k': 40, 'was_impossible': False}),\n",
       " Prediction(uid='303', iid='137', r_ui=4.0, est=3.9720579264015843, details={'actual_k': 40, 'was_impossible': False}),\n",
       " Prediction(uid='830', iid='968', r_ui=4.0, est=3.629589118338119, details={'actual_k': 13, 'was_impossible': False}),\n",
       " Prediction(uid='321', iid='180', r_ui=4.0, est=3.883890385271867, details={'actual_k': 40, 'was_impossible': False}),\n",
       " Prediction(uid='830', iid='751', r_ui=2.0, est=3.513976329947383, details={'actual_k': 40, 'was_impossible': False}),\n",
       " ...]"
      ]
     },
     "execution_count": 15,
     "metadata": {},
     "output_type": "execute_result"
    }
   ],
   "source": [
    "#predictions"
   ]
  },
  {
   "cell_type": "markdown",
   "metadata": {},
   "source": [
    "As you can see, just a couple of lines and you can apply KNN collaborative filtering on the sample movie lens dataset. The main evaluation metric is `Root Mean Square Error (RMSE)` which is a very popular rating estimation error metric used in recommender systems as well as many regression model evaluations.\n"
   ]
  },
  {
   "cell_type": "markdown",
   "metadata": {},
   "source": [
    "Now, let's load our own course rating dataset:\n"
   ]
  },
  {
   "cell_type": "code",
   "execution_count": 24,
   "metadata": {},
   "outputs": [],
   "source": [
    "rating_df.to_csv(\"course_ratings.csv\", index=False)\n",
    "# Read the course rating dataset with columns user item rating\n",
    "reader = Reader(\n",
    "        line_format='user item rating', sep=',', skip_lines=1, rating_scale=(2, 3))\n",
    "\n",
    "coruse_dataset = Dataset.load_from_file(\"course_ratings.csv\", reader=reader)"
   ]
  },
  {
   "cell_type": "markdown",
   "metadata": {},
   "source": [
    "We split it into trainset and testset:\n"
   ]
  },
  {
   "cell_type": "code",
   "execution_count": 25,
   "metadata": {},
   "outputs": [],
   "source": [
    "trainset, testset = train_test_split(coruse_dataset, test_size=.3)"
   ]
  },
  {
   "cell_type": "code",
   "execution_count": 23,
   "metadata": {},
   "outputs": [
    {
     "name": "stdout",
     "output_type": "stream",
     "text": [
      "<surprise.trainset.Trainset object at 0x000001AC503BDA30>\n"
     ]
    }
   ],
   "source": [
    "print(trainset)"
   ]
  },
  {
   "cell_type": "markdown",
   "metadata": {},
   "source": [
    "then check how many users and items we can use to fit a KNN model:\n"
   ]
  },
  {
   "cell_type": "code",
   "execution_count": 19,
   "metadata": {},
   "outputs": [
    {
     "name": "stdout",
     "output_type": "stream",
     "text": [
      "Total 31256 users and 122 items in the trainingset\n"
     ]
    }
   ],
   "source": [
    "print(f\"Total {trainset.n_users} users and {trainset.n_items} items in the trainingset\")"
   ]
  },
  {
   "cell_type": "markdown",
   "metadata": {},
   "source": [
    "### TASK: Perform KNN-based collaborative filtering on the user-item interaction matrix\n"
   ]
  },
  {
   "cell_type": "markdown",
   "metadata": {},
   "source": [
    "_TODO: Fit the KNN-based collaborative filtering model using the trainset and evaluate the results using the testset:_\n"
   ]
  },
  {
   "cell_type": "code",
   "execution_count": 26,
   "metadata": {},
   "outputs": [
    {
     "name": "stdout",
     "output_type": "stream",
     "text": [
      "Computing the msd similarity matrix...\n",
      "Done computing similarity matrix.\n",
      "RMSE: 0.1923\n"
     ]
    },
    {
     "data": {
      "text/plain": [
       "0.19229086894280187"
      ]
     },
     "execution_count": 26,
     "metadata": {},
     "output_type": "execute_result"
    }
   ],
   "source": [
    "## WRITE YOUR CODE HERE:\n",
    "\n",
    "# - Define a KNNBasic() model\n",
    "# Note there are some arguments such as:\n",
    "# max_k and min_k, representing the max and min number of neighors for rating estimations\n",
    "# sim_option, representing similarity measurement such as cosine and whether you want it to be user_based or items_based \n",
    "# e.g., sim_option = {\n",
    "#        'name': 'cosine', 'user_based': False,\n",
    "#    }\n",
    "#\n",
    "# more KNN model hyperparamets can be found here:\n",
    "# https://surprise.readthedocs.io/en/stable/knn_inspired.html\n",
    "# \n",
    "# You may try different hyperparamet combinations to see which one has the best performance\n",
    "algo = KNNBasic()\n",
    "\n",
    "# - Train the KNNBasic model on the trainset, and predict ratings for the testset\n",
    "algo.fit(trainset)\n",
    "predictions = algo.test(testset)\n",
    "\n",
    "# - Then compute RMSE\n",
    "accuracy.rmse(predictions)"
   ]
  },
  {
   "cell_type": "code",
   "execution_count": null,
   "metadata": {},
   "outputs": [],
   "source": [
    "#RMSE: 0.1923"
   ]
  },
  {
   "cell_type": "markdown",
   "metadata": {},
   "source": [
    "<details>\n",
    "    <summary>Click here for Hints</summary>\n",
    "\n",
    "* Create a model by calling `KNNBasic()` class. \n",
    "* Fit it with `trainset` by using `model.fit(trainset)`.  \n",
    "* Record predictions to the `testset`  by using `model.test(testset).\n",
    "* Compute the accuracy by using `accuracy.rmse(predictions)`\n"
   ]
  },
  {
   "cell_type": "markdown",
   "metadata": {},
   "source": [
    "To learn more detailed usages about _Surprise_ library, visit its website from [here](https://surprise.readthedocs.io/en/stable/getting_started.html?utm_medium=Exinfluencer&utm_source=Exinfluencer&utm_content=000026UJ&utm_term=10006555&utm_id=NA-SkillsNetwork-Channel-SkillsNetworkCoursesIBMML321ENSkillsNetwork817-2022-01-01)\n"
   ]
  },
  {
   "cell_type": "markdown",
   "metadata": {},
   "source": [
    "## Implementation Option 2: Use `numpy`, `pandas`, and `sklearn`\n"
   ]
  },
  {
   "cell_type": "markdown",
   "metadata": {},
   "source": [
    "If you do not prefer the one-stop Suprise solution and want more hardcore coding practices, you may implement the KNN model using `numpy`, `pandas`, and possibly `sklearn`:\n"
   ]
  },
  {
   "cell_type": "code",
   "execution_count": null,
   "metadata": {},
   "outputs": [],
   "source": [
    "## WRITE YOUR CODE HERE:\n",
    "\n",
    "## One solution could be:\n",
    "## - Calculate the similarity between two users using their rating history (the row vectors of interaction matrix)\n",
    "\n",
    "## - Build a similarity matrix for each pair of users with the training dataset\n",
    "\n",
    "## - For each user, find its k nearest neighbors in the sim matrix\n",
    "\n",
    "## - For each rating in the test dataset, estimate its rating using the KNN collaborative filtering equations shown before\n",
    "\n",
    "## - Calculate RMSE for the entire test dataset\n",
    "\n"
   ]
  },
  {
   "cell_type": "markdown",
   "metadata": {},
   "source": [
    "## Summary\n"
   ]
  },
  {
   "cell_type": "markdown",
   "metadata": {},
   "source": [
    "\n",
    "In this lab, you have learned and implemented KNN-based collaborative filtering. It is probably the simplest but very effective and intuitive collaborative filtering algorithm. Since it is based on KNN, it inherits the main characteristics of KNN such as memory-intensive because you need to maintain a huge similarity matrix among users or items. In the future labs, we will learn other types of collaborative filtering which do not rely on such a huge similarity matrix to make rating predictions.\n"
   ]
  },
  {
   "cell_type": "markdown",
   "metadata": {},
   "source": [
    "## Authors\n"
   ]
  },
  {
   "cell_type": "markdown",
   "metadata": {},
   "source": [
    "[Yan Luo](https://www.linkedin.com/in/yan-luo-96288783/?utm_medium=Exinfluencer&utm_source=Exinfluencer&utm_content=000026UJ&utm_term=10006555&utm_id=NA-SkillsNetwork-Channel-SkillsNetworkCoursesIBMML321ENSkillsNetwork817-2022-01-01)\n"
   ]
  },
  {
   "cell_type": "markdown",
   "metadata": {},
   "source": [
    "### Other Contributors\n"
   ]
  },
  {
   "cell_type": "markdown",
   "metadata": {},
   "source": [
    "## Change Log\n"
   ]
  },
  {
   "cell_type": "markdown",
   "metadata": {},
   "source": [
    "|Date (YYYY-MM-DD)|Version|Changed By|Change Description|\n",
    "|-|-|-|-|\n",
    "|2021-10-25|1.0|Yan|Created the initial version|\n"
   ]
  },
  {
   "cell_type": "markdown",
   "metadata": {},
   "source": [
    "Copyright © 2021 IBM Corporation. All rights reserved.\n"
   ]
  }
 ],
 "metadata": {
  "kernelspec": {
   "display_name": "Tensorflow",
   "language": "python",
   "name": "tensorflow"
  },
  "language_info": {
   "codemirror_mode": {
    "name": "ipython",
    "version": 3
   },
   "file_extension": ".py",
   "mimetype": "text/x-python",
   "name": "python",
   "nbconvert_exporter": "python",
   "pygments_lexer": "ipython3",
   "version": "3.9.16"
  }
 },
 "nbformat": 4,
 "nbformat_minor": 4
}
